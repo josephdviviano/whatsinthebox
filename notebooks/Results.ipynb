{
 "cells": [
  {
   "cell_type": "code",
   "execution_count": 1,
   "metadata": {},
   "outputs": [],
   "source": [
    "import pickle\n",
    "import pandas as pd\n",
    "from sklearn.preprocessing import StandardScaler, MinMaxScaler\n",
    "import numpy as np\n",
    "import matplotlib.pyplot as plt\n",
    "import seaborn as sns\n",
    "import os"
   ]
  },
  {
   "cell_type": "code",
   "execution_count": 2,
   "metadata": {},
   "outputs": [],
   "source": [
    "with open('../witb_42.pkl', 'rb') as f:\n",
    "    data = pickle.load(f)  # might be pickle.load()"
   ]
  },
  {
   "cell_type": "code",
   "execution_count": 2,
   "metadata": {},
   "outputs": [],
   "source": [
    "path = r'/home/sasha/Documents/MilaPostDoc/Python/CommonCrawl/witb_results/'\n",
    "pickles_list = [path+ f for f in os.listdir(path)]"
   ]
  },
  {
   "cell_type": "code",
   "execution_count": 3,
   "metadata": {},
   "outputs": [],
   "source": [
    "alldf=pd.DataFrame(columns=['Adult_Ngrams', 'Hate_Ngrams', 'Hate_Sonar', 'Hate_Delimit','Offense_Sonar', 'Profanity_Ngrams', 'Perplexity'])"
   ]
  },
  {
   "cell_type": "markdown",
   "metadata": {},
   "source": [
    "'Delimit'\n",
    "'hate_speech':1\n",
    "    'normal':0,\n",
    "\n",
    "'Sonar':\n",
    "'neither': 0,\n",
    "'offensive_language': 1,\n",
    "'hate_speech': 2"
   ]
  },
  {
   "cell_type": "code",
   "execution_count": 4,
   "metadata": {},
   "outputs": [
    {
     "name": "stdout",
     "output_type": "stream",
     "text": [
      "(4108860, 6)\n"
     ]
    }
   ],
   "source": [
    "data_all = []\n",
    "for pickle_file in pickles_list:\n",
    "    data= pickle.load(open(pickle_file,'rb'))\n",
    "    df = pd.DataFrame(columns=['Adult_Ngrams', 'Hate_Ngrams', 'Hate_Sonar', 'Hate_Delimit', 'Profanity_Ngrams', 'Perplexity'])\n",
    "    df['Adult_Ngrams']= data['ngram']['pornography']\n",
    "    df['Hate_Ngrams']= data['ngram']['hate-speech']\n",
    "    df['Hate_Sonar']= [n[2] for n in data['sonar']]\n",
    "    df['Hate_Delimit']= [n[1] for n in data['delimit']]\n",
    "    df['Profanity_Ngrams']= data['ngram']['profanity']\n",
    "    df['Perplexity']= data['perplexity'].astype(float)\n",
    "    df['Perplexity'] = df['Perplexity'].replace(-np.inf, np.nan)\n",
    "    #print(df.shape)\n",
    "    data_all.append(df)\n",
    "\n",
    "alldf = pd.concat(data_all, ignore_index=False)\n",
    "print(alldf.shape)"
   ]
  },
  {
   "cell_type": "code",
   "execution_count": 5,
   "metadata": {},
   "outputs": [
    {
     "data": {
      "text/html": [
       "<div>\n",
       "<style scoped>\n",
       "    .dataframe tbody tr th:only-of-type {\n",
       "        vertical-align: middle;\n",
       "    }\n",
       "\n",
       "    .dataframe tbody tr th {\n",
       "        vertical-align: top;\n",
       "    }\n",
       "\n",
       "    .dataframe thead th {\n",
       "        text-align: right;\n",
       "    }\n",
       "</style>\n",
       "<table border=\"1\" class=\"dataframe\">\n",
       "  <thead>\n",
       "    <tr style=\"text-align: right;\">\n",
       "      <th></th>\n",
       "      <th>Adult_Ngrams</th>\n",
       "      <th>Hate_Ngrams</th>\n",
       "      <th>Hate_Sonar</th>\n",
       "      <th>Hate_Delimit</th>\n",
       "      <th>Profanity_Ngrams</th>\n",
       "      <th>Perplexity</th>\n",
       "    </tr>\n",
       "  </thead>\n",
       "  <tbody>\n",
       "    <tr>\n",
       "      <th>0</th>\n",
       "      <td>0</td>\n",
       "      <td>0</td>\n",
       "      <td>0.0</td>\n",
       "      <td>0.0</td>\n",
       "      <td>12</td>\n",
       "      <td>363.7</td>\n",
       "    </tr>\n",
       "    <tr>\n",
       "      <th>1</th>\n",
       "      <td>1</td>\n",
       "      <td>0</td>\n",
       "      <td>0.0</td>\n",
       "      <td>0.0</td>\n",
       "      <td>3</td>\n",
       "      <td>551.1</td>\n",
       "    </tr>\n",
       "    <tr>\n",
       "      <th>2</th>\n",
       "      <td>0</td>\n",
       "      <td>1</td>\n",
       "      <td>0.0</td>\n",
       "      <td>0.0</td>\n",
       "      <td>13</td>\n",
       "      <td>538.4</td>\n",
       "    </tr>\n",
       "    <tr>\n",
       "      <th>3</th>\n",
       "      <td>0</td>\n",
       "      <td>0</td>\n",
       "      <td>0.0</td>\n",
       "      <td>0.0</td>\n",
       "      <td>3</td>\n",
       "      <td>722.7</td>\n",
       "    </tr>\n",
       "    <tr>\n",
       "      <th>4</th>\n",
       "      <td>0</td>\n",
       "      <td>0</td>\n",
       "      <td>0.0</td>\n",
       "      <td>0.0</td>\n",
       "      <td>2</td>\n",
       "      <td>461.8</td>\n",
       "    </tr>\n",
       "  </tbody>\n",
       "</table>\n",
       "</div>"
      ],
      "text/plain": [
       "   Adult_Ngrams  Hate_Ngrams  Hate_Sonar  Hate_Delimit  Profanity_Ngrams  \\\n",
       "0             0            0         0.0           0.0                12   \n",
       "1             1            0         0.0           0.0                 3   \n",
       "2             0            1         0.0           0.0                13   \n",
       "3             0            0         0.0           0.0                 3   \n",
       "4             0            0         0.0           0.0                 2   \n",
       "\n",
       "   Perplexity  \n",
       "0       363.7  \n",
       "1       551.1  \n",
       "2       538.4  \n",
       "3       722.7  \n",
       "4       461.8  "
      ]
     },
     "execution_count": 5,
     "metadata": {},
     "output_type": "execute_result"
    }
   ],
   "source": [
    "alldf.head()"
   ]
  },
  {
   "cell_type": "code",
   "execution_count": 6,
   "metadata": {},
   "outputs": [
    {
     "data": {
      "text/plain": [
       "(4108860, 6)"
      ]
     },
     "execution_count": 6,
     "metadata": {},
     "output_type": "execute_result"
    }
   ],
   "source": [
    "alldf.shape"
   ]
  },
  {
   "cell_type": "code",
   "execution_count": 43,
   "metadata": {},
   "outputs": [
    {
     "name": "stdout",
     "output_type": "stream",
     "text": [
      "Adult content: \n",
      "% of websites containing adult ngrams:  2.36 %\n",
      "% of websites containing 3 + adult ngrams:  1.36 %\n",
      "% of websites containing 10 + adult ngrams:  0.73 %\n",
      "Hate speech: \n",
      "% of websites containing hate ngrams:  17.78 %\n",
      "% of websites containing 3 + hate ngrams:  6.38 %\n",
      "% of websites containing 10 + hate ngrams:  1.16 %\n",
      "% of websites containing 10 + hate ngrams:  1.16 %\n",
      "% of websites containing hate speech (Sonar):  4.02 %\n",
      "% of websites containing hate speech (Delimit:  5.25 %\n"
     ]
    }
   ],
   "source": [
    "print('Adult content: ')\n",
    "print('% of websites containing adult ngrams: ', round((alldf.query(\"0 < Adult_Ngrams\").shape[0]/alldf.shape[0]*100), 2),'%')\n",
    "print('% of websites containing 3 + adult ngrams: ', round((alldf.query(\"3 <= Adult_Ngrams\").shape[0]/alldf.shape[0]*100), 2),'%')\n",
    "print('% of websites containing 10 + adult ngrams: ', round((alldf.query(\"10 <= Adult_Ngrams\").shape[0]/alldf.shape[0]*100), 2),'%')\n",
    "print('Hate speech: ')\n",
    "print('% of websites containing hate ngrams: ', round((alldf.query(\"0 < Hate_Ngrams\").shape[0]/alldf.shape[0]*100), 2),'%')\n",
    "print('% of websites containing 3 + hate ngrams: ', round((alldf.query(\"3 <= Hate_Ngrams\").shape[0]/alldf.shape[0]*100), 2),'%')\n",
    "print('% of websites containing 10 + hate ngrams: ', round((alldf.query(\"10 <= Hate_Ngrams\").shape[0]/alldf.shape[0]*100), 2),'%')\n",
    "print('% of websites containing 10 + hate ngrams: ', round((alldf.query(\"10 <= Hate_Ngrams\").shape[0]/alldf.shape[0]*100), 2),'%')\n",
    "print('% of websites containing hate speech (Sonar): ', round((alldf.query(\"0 < Hate_Sonar\").shape[0]/alldf.shape[0]*100), 2),'%')\n",
    "print('% of websites containing hate speech (Delimit): ', round((alldf.query(\"0 < Hate_Delimit\").shape[0]/alldf.shape[0]*100), 2),'%')"
   ]
  },
  {
   "cell_type": "code",
   "execution_count": 17,
   "metadata": {},
   "outputs": [
    {
     "data": {
      "text/html": [
       "<div>\n",
       "<style scoped>\n",
       "    .dataframe tbody tr th:only-of-type {\n",
       "        vertical-align: middle;\n",
       "    }\n",
       "\n",
       "    .dataframe tbody tr th {\n",
       "        vertical-align: top;\n",
       "    }\n",
       "\n",
       "    .dataframe thead th {\n",
       "        text-align: right;\n",
       "    }\n",
       "</style>\n",
       "<table border=\"1\" class=\"dataframe\">\n",
       "  <thead>\n",
       "    <tr style=\"text-align: right;\">\n",
       "      <th></th>\n",
       "      <th>Adult_Ngrams</th>\n",
       "      <th>Hate_Ngrams</th>\n",
       "      <th>Hate_Sonar</th>\n",
       "      <th>Hate_Delimit</th>\n",
       "      <th>Profanity_Ngrams</th>\n",
       "      <th>Perplexity</th>\n",
       "    </tr>\n",
       "  </thead>\n",
       "  <tbody>\n",
       "    <tr>\n",
       "      <th>0</th>\n",
       "      <td>0</td>\n",
       "      <td>0</td>\n",
       "      <td>0.0</td>\n",
       "      <td>0.0</td>\n",
       "      <td>12</td>\n",
       "      <td>363.7</td>\n",
       "    </tr>\n",
       "    <tr>\n",
       "      <th>1</th>\n",
       "      <td>1</td>\n",
       "      <td>0</td>\n",
       "      <td>0.0</td>\n",
       "      <td>0.0</td>\n",
       "      <td>3</td>\n",
       "      <td>551.1</td>\n",
       "    </tr>\n",
       "    <tr>\n",
       "      <th>2</th>\n",
       "      <td>0</td>\n",
       "      <td>1</td>\n",
       "      <td>0.0</td>\n",
       "      <td>0.0</td>\n",
       "      <td>13</td>\n",
       "      <td>538.4</td>\n",
       "    </tr>\n",
       "    <tr>\n",
       "      <th>4</th>\n",
       "      <td>0</td>\n",
       "      <td>0</td>\n",
       "      <td>0.0</td>\n",
       "      <td>0.0</td>\n",
       "      <td>2</td>\n",
       "      <td>461.8</td>\n",
       "    </tr>\n",
       "    <tr>\n",
       "      <th>5</th>\n",
       "      <td>0</td>\n",
       "      <td>2</td>\n",
       "      <td>1.0</td>\n",
       "      <td>1.0</td>\n",
       "      <td>26</td>\n",
       "      <td>474.0</td>\n",
       "    </tr>\n",
       "  </tbody>\n",
       "</table>\n",
       "</div>"
      ],
      "text/plain": [
       "   Adult_Ngrams  Hate_Ngrams  Hate_Sonar  Hate_Delimit  Profanity_Ngrams  \\\n",
       "0             0            0         0.0           0.0                12   \n",
       "1             1            0         0.0           0.0                 3   \n",
       "2             0            1         0.0           0.0                13   \n",
       "4             0            0         0.0           0.0                 2   \n",
       "5             0            2         1.0           1.0                26   \n",
       "\n",
       "   Perplexity  \n",
       "0       363.7  \n",
       "1       551.1  \n",
       "2       538.4  \n",
       "4       461.8  \n",
       "5       474.0  "
      ]
     },
     "execution_count": 17,
     "metadata": {},
     "output_type": "execute_result"
    }
   ],
   "source": [
    "lowperplex=alldf[alldf['Perplexity'] < alldf['Perplexity'].quantile(.3)]\n",
    "lowperplex.head()"
   ]
  },
  {
   "cell_type": "code",
   "execution_count": 19,
   "metadata": {},
   "outputs": [
    {
     "data": {
      "text/plain": [
       "(1229505, 6)"
      ]
     },
     "execution_count": 19,
     "metadata": {},
     "output_type": "execute_result"
    }
   ],
   "source": [
    "lowperplex.shape"
   ]
  },
  {
   "cell_type": "code",
   "execution_count": 18,
   "metadata": {},
   "outputs": [
    {
     "data": {
      "text/plain": [
       "count    1.229505e+06\n",
       "mean     3.959584e+02\n",
       "std      1.072374e+02\n",
       "min      1.100000e+00\n",
       "25%      3.229000e+02\n",
       "50%      4.053000e+02\n",
       "75%      4.830000e+02\n",
       "max      5.648000e+02\n",
       "Name: Perplexity, dtype: float64"
      ]
     },
     "execution_count": 18,
     "metadata": {},
     "output_type": "execute_result"
    }
   ],
   "source": [
    "lowperplex['Perplexity'].describe()"
   ]
  },
  {
   "cell_type": "code",
   "execution_count": 46,
   "metadata": {},
   "outputs": [
    {
     "name": "stdout",
     "output_type": "stream",
     "text": [
      "Adult content: \n",
      "% of websites containing adult ngrams:  1.81 %\n",
      "% of websites containing 3 + adult ngrams:  0.42 %\n",
      "% of websites containing 10 + adult ngrams:  0.08 %\n",
      "Hate speech: \n",
      "% of websites containing hate ngrams:  18.95 %\n",
      "% of websites containing 3 + hate ngrams:  6.19 %\n",
      "% of websites containing 10 + hate ngrams:  1.18 %\n",
      "% of websites containing hate speech (Sonar):  3.48 %\n",
      "% of websites containing hate speech (Delimit):  5.8 %\n"
     ]
    }
   ],
   "source": [
    "print('Adult content: ')\n",
    "print('% of websites containing adult ngrams: ', round((lowperplex.query(\"0 < Adult_Ngrams\").shape[0]/lowperplex.shape[0]*100), 2),'%')\n",
    "print('% of websites containing 3 + adult ngrams: ', round((lowperplex.query(\"3 <= Adult_Ngrams\").shape[0]/lowperplex.shape[0]*100), 2),'%')\n",
    "print('% of websites containing 10 + adult ngrams: ', round((lowperplex.query(\"10 <= Adult_Ngrams\").shape[0]/lowperplex.shape[0]*100), 2),'%')\n",
    "print('Hate speech: ')\n",
    "print('% of websites containing hate ngrams: ', round((lowperplex.query(\"0 < Hate_Ngrams\").shape[0]/lowperplex.shape[0]*100), 2),'%')\n",
    "print('% of websites containing 3 + hate ngrams: ', round((lowperplex.query(\"3 <= Hate_Ngrams\").shape[0]/lowperplex.shape[0]*100), 2),'%')\n",
    "print('% of websites containing 10 + hate ngrams: ', round((lowperplex.query(\"10 <= Hate_Ngrams\").shape[0]/lowperplex.shape[0]*100), 2),'%')\n",
    "print('% of websites containing hate speech (Sonar): ', round((lowperplex.query(\"0 < Hate_Sonar\").shape[0]/lowperplex.shape[0]*100), 2),'%')\n",
    "print('% of websites containing hate speech (Delimit): ', round((lowperplex.query(\"0 < Hate_Delimit\").shape[0]/lowperplex.shape[0]*100), 2),'%')"
   ]
  },
  {
   "cell_type": "code",
   "execution_count": 23,
   "metadata": {},
   "outputs": [
    {
     "data": {
      "text/html": [
       "<div>\n",
       "<style scoped>\n",
       "    .dataframe tbody tr th:only-of-type {\n",
       "        vertical-align: middle;\n",
       "    }\n",
       "\n",
       "    .dataframe tbody tr th {\n",
       "        vertical-align: top;\n",
       "    }\n",
       "\n",
       "    .dataframe thead th {\n",
       "        text-align: right;\n",
       "    }\n",
       "</style>\n",
       "<table border=\"1\" class=\"dataframe\">\n",
       "  <thead>\n",
       "    <tr style=\"text-align: right;\">\n",
       "      <th></th>\n",
       "      <th>Adult_Ngrams</th>\n",
       "      <th>Hate_Ngrams</th>\n",
       "      <th>Hate_Sonar</th>\n",
       "      <th>Hate_Delimit</th>\n",
       "      <th>Profanity_Ngrams</th>\n",
       "      <th>Perplexity</th>\n",
       "    </tr>\n",
       "  </thead>\n",
       "  <tbody>\n",
       "    <tr>\n",
       "      <th>9</th>\n",
       "      <td>0</td>\n",
       "      <td>0</td>\n",
       "      <td>0.0</td>\n",
       "      <td>0.0</td>\n",
       "      <td>0</td>\n",
       "      <td>5256.5</td>\n",
       "    </tr>\n",
       "    <tr>\n",
       "      <th>12</th>\n",
       "      <td>0</td>\n",
       "      <td>0</td>\n",
       "      <td>0.0</td>\n",
       "      <td>0.0</td>\n",
       "      <td>0</td>\n",
       "      <td>2450.3</td>\n",
       "    </tr>\n",
       "    <tr>\n",
       "      <th>13</th>\n",
       "      <td>0</td>\n",
       "      <td>0</td>\n",
       "      <td>0.0</td>\n",
       "      <td>0.0</td>\n",
       "      <td>0</td>\n",
       "      <td>3726.5</td>\n",
       "    </tr>\n",
       "    <tr>\n",
       "      <th>15</th>\n",
       "      <td>0</td>\n",
       "      <td>0</td>\n",
       "      <td>0.0</td>\n",
       "      <td>0.0</td>\n",
       "      <td>0</td>\n",
       "      <td>1545.7</td>\n",
       "    </tr>\n",
       "    <tr>\n",
       "      <th>20</th>\n",
       "      <td>0</td>\n",
       "      <td>5</td>\n",
       "      <td>7.0</td>\n",
       "      <td>0.0</td>\n",
       "      <td>32</td>\n",
       "      <td>2535.2</td>\n",
       "    </tr>\n",
       "  </tbody>\n",
       "</table>\n",
       "</div>"
      ],
      "text/plain": [
       "    Adult_Ngrams  Hate_Ngrams  Hate_Sonar  Hate_Delimit  Profanity_Ngrams  \\\n",
       "9              0            0         0.0           0.0                 0   \n",
       "12             0            0         0.0           0.0                 0   \n",
       "13             0            0         0.0           0.0                 0   \n",
       "15             0            0         0.0           0.0                 0   \n",
       "20             0            5         7.0           0.0                32   \n",
       "\n",
       "    Perplexity  \n",
       "9       5256.5  \n",
       "12      2450.3  \n",
       "13      3726.5  \n",
       "15      1545.7  \n",
       "20      2535.2  "
      ]
     },
     "execution_count": 23,
     "metadata": {},
     "output_type": "execute_result"
    }
   ],
   "source": [
    "highperplex=alldf[alldf['Perplexity'] > alldf['Perplexity'].quantile(.7)]\n",
    "highperplex.head()"
   ]
  },
  {
   "cell_type": "code",
   "execution_count": 28,
   "metadata": {},
   "outputs": [
    {
     "data": {
      "text/plain": [
       "(1229560, 6)"
      ]
     },
     "execution_count": 28,
     "metadata": {},
     "output_type": "execute_result"
    }
   ],
   "source": [
    "highperplex.shape"
   ]
  },
  {
   "cell_type": "code",
   "execution_count": 29,
   "metadata": {},
   "outputs": [
    {
     "data": {
      "text/plain": [
       "count    1.229560e+06\n",
       "mean     2.709832e+03\n",
       "std      3.255988e+03\n",
       "min      1.308900e+03\n",
       "25%      1.580300e+03\n",
       "50%      1.999300e+03\n",
       "75%      2.859125e+03\n",
       "max      3.351162e+05\n",
       "Name: Perplexity, dtype: float64"
      ]
     },
     "execution_count": 29,
     "metadata": {},
     "output_type": "execute_result"
    }
   ],
   "source": [
    "highperplex['Perplexity'].describe()"
   ]
  },
  {
   "cell_type": "code",
   "execution_count": 47,
   "metadata": {},
   "outputs": [
    {
     "name": "stdout",
     "output_type": "stream",
     "text": [
      "Adult content: \n",
      "% of websites containing adult ngrams:  3.97 %\n",
      "% of websites containing 3 + adult ngrams:  3.11 %\n",
      "% of websites containing 10 + adult ngrams:  1.98 %\n",
      "Hate speech: \n",
      "% of websites containing hate ngrams:  19.19 %\n",
      "% of websites containing 3 + hate ngrams:  8.24 %\n",
      "% of websites containing 10 + hate ngrams:  1.69 %\n",
      "% of websites containing hate speech (Sonar):  5.09 %\n",
      "% of websites containing hate speech (Delimit):  5.66 %\n"
     ]
    }
   ],
   "source": [
    "print('Adult content: ')\n",
    "print('% of websites containing adult ngrams: ', round((highperplex.query(\"0 < Adult_Ngrams\").shape[0]/highperplex.shape[0]*100), 2),'%')\n",
    "print('% of websites containing 3 + adult ngrams: ', round((highperplex.query(\"3 <= Adult_Ngrams\").shape[0]/highperplex.shape[0]*100), 2),'%')\n",
    "print('% of websites containing 10 + adult ngrams: ', round((highperplex.query(\"10 <= Adult_Ngrams\").shape[0]/highperplex.shape[0]*100), 2),'%')\n",
    "print('Hate speech: ')\n",
    "print('% of websites containing hate ngrams: ', round((highperplex.query(\"0 < Hate_Ngrams\").shape[0]/highperplex.shape[0]*100), 2),'%')\n",
    "print('% of websites containing 3 + hate ngrams: ', round((highperplex.query(\"3 <= Hate_Ngrams\").shape[0]/highperplex.shape[0]*100), 2),'%')\n",
    "print('% of websites containing 10 + hate ngrams: ', round((highperplex.query(\"10 <= Hate_Ngrams\").shape[0]/highperplex.shape[0]*100), 2),'%')\n",
    "print('% of websites containing hate speech (Sonar): ', round((highperplex.query(\"0 < Hate_Sonar\").shape[0]/highperplex.shape[0]*100), 2),'%')\n",
    "print('% of websites containing hate speech (Delimit): ', round((highperplex.query(\"0 < Hate_Delimit\").shape[0]/highperplex.shape[0]*100), 2),'%')"
   ]
  },
  {
   "cell_type": "code",
   "execution_count": 10,
   "metadata": {
    "scrolled": true
   },
   "outputs": [
    {
     "data": {
      "text/plain": [
       "0.1338814172300833"
      ]
     },
     "execution_count": 10,
     "metadata": {},
     "output_type": "execute_result"
    }
   ],
   "source": [
    "alldf.query(\"3 < Hate_Ngrams and 0 < Hate_Sonar and 0 < Hate_Delimit\").shape[0]/alldf.shape[0]*100"
   ]
  },
  {
   "cell_type": "code",
   "execution_count": 12,
   "metadata": {},
   "outputs": [
    {
     "data": {
      "text/plain": [
       "0.7855706935743735"
      ]
     },
     "execution_count": 12,
     "metadata": {},
     "output_type": "execute_result"
    }
   ],
   "source": [
    "alldf.query(\"3 < Hate_Ngrams and 0 < Hate_Sonar\").shape[0]/alldf.shape[0]*100"
   ]
  },
  {
   "cell_type": "code",
   "execution_count": 11,
   "metadata": {},
   "outputs": [
    {
     "data": {
      "text/plain": [
       "0.8772019489590787"
      ]
     },
     "execution_count": 11,
     "metadata": {},
     "output_type": "execute_result"
    }
   ],
   "source": [
    "alldf.query(\"3 < Hate_Ngrams and 0 < Hate_Delimit\").shape[0]/alldf.shape[0]*100"
   ]
  },
  {
   "cell_type": "code",
   "execution_count": null,
   "metadata": {},
   "outputs": [],
   "source": [
    "voting schemes:\n",
    "    - either one flags\n",
    "    - all of them flag\n",
    "    "
   ]
  },
  {
   "cell_type": "code",
   "execution_count": 217,
   "metadata": {
    "collapsed": true
   },
   "outputs": [
    {
     "name": "stdout",
     "output_type": "stream",
     "text": [
      "[19.         28.          5.          0.28089048  0.49504357  0.22406595]\n",
      "150\n",
      "[0.         3.         0.         0.16327537 0.7530995  0.08362513]\n",
      "227\n",
      "[19.         20.          8.          0.34352383  0.39352707  0.2629491 ]\n",
      "247\n",
      "[4.         7.         0.         0.26598002 0.66407523 0.06994475]\n",
      "288\n",
      "[ 3.         10.          0.          0.39726598  0.54407789  0.05865613]\n",
      "330\n",
      "[19.         26.          0.          0.35018037  0.587915    0.06190463]\n",
      "624\n",
      "[1.47000000e+02 2.10000000e+02 3.00000000e+00 3.26557267e-01\n",
      " 6.11441958e-01 6.20007748e-02]\n",
      "626\n",
      "[3.90000000e+01 6.90000000e+01 0.00000000e+00 3.88549204e-01\n",
      " 5.66377057e-01 4.50737394e-02]\n",
      "1696\n",
      "[11.         12.          0.          0.46329089  0.48513829  0.05157082]\n",
      "2017\n",
      "[3.40000000e+01 6.40000000e+01 0.00000000e+00 4.47345639e-01\n",
      " 5.22494588e-01 3.01597732e-02]\n",
      "2132\n",
      "[ 8.         11.          0.          0.31703258  0.61975     0.06321743]\n",
      "2397\n",
      "[9.00000000e+00 5.80000000e+01 0.00000000e+00 8.41103772e-02\n",
      " 9.00625720e-01 1.52639029e-02]\n",
      "2670\n",
      "[11.         19.          1.          0.4395104   0.50973917  0.05075042]\n",
      "3035\n",
      "[3.         8.         0.         0.33825313 0.62508662 0.03666026]\n",
      "3585\n",
      "[1.         3.         0.         0.40317018 0.43230127 0.16452855]\n",
      "3733\n",
      "[25.         27.          0.          0.37517263  0.5809595   0.04386787]\n",
      "4933\n",
      "[10.         13.          0.          0.37000995  0.52261173  0.10737832]\n",
      "5007\n",
      "[2.         3.         0.         0.5330812  0.44026066 0.02665814]\n",
      "5119\n",
      "[14.         26.          0.          0.29203031  0.63067965  0.07729004]\n",
      "5319\n",
      "[ 4.         13.          0.          0.2448587   0.71698066  0.03816065]\n",
      "8601\n",
      "[3.20000000e+01 9.10000000e+01 0.00000000e+00 2.75978791e-01\n",
      " 6.58657645e-01 6.53635636e-02]\n",
      "9581\n",
      "[2.80000000e+01 3.50000000e+01 0.00000000e+00 5.14525799e-01\n",
      " 4.51584184e-01 3.38900166e-02]\n",
      "12993\n",
      "[0.         1.         0.         0.39228068 0.40126329 0.20645603]\n",
      "13441\n",
      "[1.30000000e+01 1.47000000e+02 0.00000000e+00 4.23726241e-01\n",
      " 5.43258481e-01 3.30152778e-02]\n",
      "13560\n",
      "[14.         17.          0.          0.37954311  0.56980216  0.05065473]\n",
      "13881\n"
     ]
    }
   ],
   "source": [
    "counto=0\n",
    "for n in data['sonar']:\n",
    "    counto+=1\n",
    "    if n[1]  > n[0]:\n",
    "        print(n)\n",
    "        print(counto)"
   ]
  },
  {
   "cell_type": "code",
   "execution_count": 48,
   "metadata": {},
   "outputs": [
    {
     "name": "stdout",
     "output_type": "stream",
     "text": [
      "14603\n",
      "14603\n"
     ]
    }
   ],
   "source": [
    "sonarhate=[]\n",
    "sonaroffense=[]\n",
    "for n in data['sonar']:\n",
    "    #print(n)\n",
    "    sonarhate.append(n[3])\n",
    "    sonaroffense.append(n[4])\n",
    "\n",
    "print(len(sonarhate))\n",
    "print(len(sonaroffense))"
   ]
  },
  {
   "cell_type": "code",
   "execution_count": 49,
   "metadata": {},
   "outputs": [
    {
     "name": "stdout",
     "output_type": "stream",
     "text": [
      "pornography\n",
      "profanity\n",
      "hate-speech\n"
     ]
    }
   ],
   "source": [
    "for n in data['ngram']:\n",
    "    print(n)"
   ]
  },
  {
   "cell_type": "code",
   "execution_count": 51,
   "metadata": {},
   "outputs": [
    {
     "data": {
      "text/html": [
       "<div>\n",
       "<style scoped>\n",
       "    .dataframe tbody tr th:only-of-type {\n",
       "        vertical-align: middle;\n",
       "    }\n",
       "\n",
       "    .dataframe tbody tr th {\n",
       "        vertical-align: top;\n",
       "    }\n",
       "\n",
       "    .dataframe thead th {\n",
       "        text-align: right;\n",
       "    }\n",
       "</style>\n",
       "<table border=\"1\" class=\"dataframe\">\n",
       "  <thead>\n",
       "    <tr style=\"text-align: right;\">\n",
       "      <th></th>\n",
       "      <th>Adult_Ngrams</th>\n",
       "      <th>Hate_Ngrams</th>\n",
       "      <th>Hate_Sonar</th>\n",
       "      <th>Hate_Delimit</th>\n",
       "      <th>Profanity_Ngrams</th>\n",
       "      <th>Perplexity</th>\n",
       "    </tr>\n",
       "  </thead>\n",
       "  <tbody>\n",
       "    <tr>\n",
       "      <th>Adult_Ngrams</th>\n",
       "      <td>1.000000</td>\n",
       "      <td>0.139288</td>\n",
       "      <td>0.021573</td>\n",
       "      <td>0.206156</td>\n",
       "      <td>0.505641</td>\n",
       "      <td>0.043934</td>\n",
       "    </tr>\n",
       "    <tr>\n",
       "      <th>Hate_Ngrams</th>\n",
       "      <td>0.139288</td>\n",
       "      <td>1.000000</td>\n",
       "      <td>0.171169</td>\n",
       "      <td>0.106593</td>\n",
       "      <td>0.329419</td>\n",
       "      <td>0.018846</td>\n",
       "    </tr>\n",
       "    <tr>\n",
       "      <th>Hate_Sonar</th>\n",
       "      <td>0.021573</td>\n",
       "      <td>0.171169</td>\n",
       "      <td>1.000000</td>\n",
       "      <td>0.027258</td>\n",
       "      <td>0.276335</td>\n",
       "      <td>0.012697</td>\n",
       "    </tr>\n",
       "    <tr>\n",
       "      <th>Hate_Delimit</th>\n",
       "      <td>0.206156</td>\n",
       "      <td>0.106593</td>\n",
       "      <td>0.027258</td>\n",
       "      <td>1.000000</td>\n",
       "      <td>0.172071</td>\n",
       "      <td>0.040033</td>\n",
       "    </tr>\n",
       "    <tr>\n",
       "      <th>Profanity_Ngrams</th>\n",
       "      <td>0.505641</td>\n",
       "      <td>0.329419</td>\n",
       "      <td>0.276335</td>\n",
       "      <td>0.172071</td>\n",
       "      <td>1.000000</td>\n",
       "      <td>0.010106</td>\n",
       "    </tr>\n",
       "    <tr>\n",
       "      <th>Perplexity</th>\n",
       "      <td>0.043934</td>\n",
       "      <td>0.018846</td>\n",
       "      <td>0.012697</td>\n",
       "      <td>0.040033</td>\n",
       "      <td>0.010106</td>\n",
       "      <td>1.000000</td>\n",
       "    </tr>\n",
       "  </tbody>\n",
       "</table>\n",
       "</div>"
      ],
      "text/plain": [
       "                  Adult_Ngrams  Hate_Ngrams  Hate_Sonar  Hate_Delimit  \\\n",
       "Adult_Ngrams          1.000000     0.139288    0.021573      0.206156   \n",
       "Hate_Ngrams           0.139288     1.000000    0.171169      0.106593   \n",
       "Hate_Sonar            0.021573     0.171169    1.000000      0.027258   \n",
       "Hate_Delimit          0.206156     0.106593    0.027258      1.000000   \n",
       "Profanity_Ngrams      0.505641     0.329419    0.276335      0.172071   \n",
       "Perplexity            0.043934     0.018846    0.012697      0.040033   \n",
       "\n",
       "                  Profanity_Ngrams  Perplexity  \n",
       "Adult_Ngrams              0.505641    0.043934  \n",
       "Hate_Ngrams               0.329419    0.018846  \n",
       "Hate_Sonar                0.276335    0.012697  \n",
       "Hate_Delimit              0.172071    0.040033  \n",
       "Profanity_Ngrams          1.000000    0.010106  \n",
       "Perplexity                0.010106    1.000000  "
      ]
     },
     "execution_count": 51,
     "metadata": {},
     "output_type": "execute_result"
    }
   ],
   "source": [
    "alldf.corr()"
   ]
  },
  {
   "cell_type": "code",
   "execution_count": 108,
   "metadata": {},
   "outputs": [],
   "source": [
    "#normalizing sonar values\n",
    "x = df[['Perplexity']].values.astype(float)\n",
    "\n",
    "# Create a minimum and maximum processor object\n",
    "min_max_scaler = MinMaxScaler()\n",
    "\n",
    "# Create an object to transform the data to fit minmax processor\n",
    "x_scaled = min_max_scaler.fit_transform(x)\n",
    "\n",
    "# Run the normalizer on the dataframe\n",
    "df['Perplexity_normalized'] = pd.DataFrame(x_scaled)"
   ]
  },
  {
   "cell_type": "code",
   "execution_count": 180,
   "metadata": {},
   "outputs": [],
   "source": [
    "#normalizing sonar values\n",
    "x = df[['Hate_Sonar']].values.astype(float)\n",
    "\n",
    "# Create a minimum and maximum processor object\n",
    "min_max_scaler = MinMaxScaler()\n",
    "\n",
    "# Create an object to transform the data to fit minmax processor\n",
    "x_scaled = min_max_scaler.fit_transform(x)\n",
    "\n",
    "# Run the normalizer on the dataframe\n",
    "df['Hate_Sonar_normalized'] = pd.DataFrame(x_scaled)"
   ]
  },
  {
   "cell_type": "code",
   "execution_count": 188,
   "metadata": {},
   "outputs": [
    {
     "data": {
      "text/plain": [
       "count    14435.000000\n",
       "mean         0.052376\n",
       "std          0.023818\n",
       "min          0.000000\n",
       "25%          0.038723\n",
       "50%          0.047301\n",
       "75%          0.059238\n",
       "max          0.583624\n",
       "Name: Hate_Delimit, dtype: float64"
      ]
     },
     "execution_count": 188,
     "metadata": {},
     "output_type": "execute_result"
    }
   ],
   "source": [
    "df['Hate_Delimit'].describe()"
   ]
  },
  {
   "cell_type": "code",
   "execution_count": 181,
   "metadata": {},
   "outputs": [],
   "source": [
    "#normalizing sonar values\n",
    "x = df[['Hate_Delimit']].values.astype(float)\n",
    "\n",
    "# Create a minimum and maximum processor object\n",
    "min_max_scaler = MinMaxScaler()\n",
    "\n",
    "# Create an object to transform the data to fit minmax processor\n",
    "x_scaled = min_max_scaler.fit_transform(x)\n",
    "\n",
    "# Run the normalizer on the dataframe\n",
    "df['Hate_Delimit_normalized'] = pd.DataFrame(x_scaled)"
   ]
  },
  {
   "cell_type": "code",
   "execution_count": 41,
   "metadata": {},
   "outputs": [
    {
     "data": {
      "text/plain": [
       "0.02570142015933495"
      ]
     },
     "execution_count": 41,
     "metadata": {},
     "output_type": "execute_result"
    }
   ],
   "source": [
    "(df['Adult_Ngrams'][df.Adult_Ngrams > 0].count()) / (df['Adult_Ngrams'][df.Adult_Ngrams >= 0].count())"
   ]
  },
  {
   "cell_type": "code",
   "execution_count": 43,
   "metadata": {},
   "outputs": [
    {
     "data": {
      "text/plain": [
       "0.6864565292691375"
      ]
     },
     "execution_count": 43,
     "metadata": {},
     "output_type": "execute_result"
    }
   ],
   "source": [
    "(df['Profanity_Ngrams'][df.Profanity_Ngrams > 0].count()) / (df['Profanity_Ngrams'][df.Profanity_Ngrams >= 0].count())"
   ]
  },
  {
   "cell_type": "code",
   "execution_count": 45,
   "metadata": {},
   "outputs": [
    {
     "data": {
      "text/plain": [
       "0.17499134049186008"
      ]
     },
     "execution_count": 45,
     "metadata": {},
     "output_type": "execute_result"
    }
   ],
   "source": [
    "(df['Hate_Ngrams'][df.Hate_Ngrams > 0].count()) / (df['Hate_Ngrams'][df.Hate_Ngrams >= 0].count())"
   ]
  },
  {
   "cell_type": "code",
   "execution_count": 21,
   "metadata": {},
   "outputs": [
    {
     "data": {
      "text/plain": [
       "1392"
      ]
     },
     "execution_count": 21,
     "metadata": {},
     "output_type": "execute_result"
    }
   ],
   "source": [
    "df['Hate_Ngrams'][df.Hate_Ngrams > 1].count()"
   ]
  },
  {
   "cell_type": "code",
   "execution_count": 357,
   "metadata": {},
   "outputs": [
    {
     "data": {
      "image/png": "[encoded data removed]",
      "text/plain": [
       "<Figure size 432x288 with 1 Axes>"
      ]
     },
     "metadata": {
      "needs_background": "light"
     },
     "output_type": "display_data"
    }
   ],
   "source": [
    "ax = df['Hate_Sonar'].plot.kde()"
   ]
  },
  {
   "cell_type": "code",
   "execution_count": 358,
   "metadata": {},
   "outputs": [
    {
     "data": {
      "image/png": "[encoded data removed]",
      "text/plain": [
       "<Figure size 432x288 with 1 Axes>"
      ]
     },
     "metadata": {
      "needs_background": "light"
     },
     "output_type": "display_data"
    }
   ],
   "source": [
    "ax = df['Hate_Delimit'].plot.kde()"
   ]
  },
  {
   "cell_type": "code",
   "execution_count": 359,
   "metadata": {},
   "outputs": [
    {
     "data": {
      "image/png": "[encoded data removed]",
      "text/plain": [
       "<Figure size 432x288 with 1 Axes>"
      ]
     },
     "metadata": {
      "needs_background": "light"
     },
     "output_type": "display_data"
    }
   ],
   "source": [
    "datas= df[['Hate_Sonar', 'Hate_Ngrams']]\n",
    "ax = sns.regplot(x=\"Hate_Sonar\", y=\"Hate_Ngrams\", data=datas, robust=True,n_boot=10)"
   ]
  },
  {
   "cell_type": "code",
   "execution_count": 360,
   "metadata": {},
   "outputs": [
    {
     "data": {
      "image/png": "[encoded data removed]",
      "text/plain": [
       "<Figure size 432x288 with 1 Axes>"
      ]
     },
     "metadata": {
      "needs_background": "light"
     },
     "output_type": "display_data"
    }
   ],
   "source": [
    "datas= df[['Hate_Sonar', 'Hate_Delimit']]\n",
    "ax = sns.regplot(x=\"Hate_Sonar\", y=\"Hate_Delimit\", data=datas, robust=True,n_boot=10)"
   ]
  },
  {
   "cell_type": "code",
   "execution_count": 361,
   "metadata": {},
   "outputs": [
    {
     "data": {
      "image/png": "[encoded data removed]",
      "text/plain": [
       "<Figure size 432x288 with 1 Axes>"
      ]
     },
     "metadata": {
      "needs_background": "light"
     },
     "output_type": "display_data"
    }
   ],
   "source": [
    "datas= df[['Hate_Delimit', 'Hate_Ngrams']]\n",
    "ax = sns.regplot(x=\"Hate_Delimit\", y=\"Hate_Ngrams\", data=datas, robust=True, n_boot=10)"
   ]
  },
  {
   "cell_type": "code",
   "execution_count": 363,
   "metadata": {},
   "outputs": [
    {
     "data": {
      "image/png": "[encoded data removed]",
      "text/plain": [
       "<Figure size 432x288 with 1 Axes>"
      ]
     },
     "metadata": {
      "needs_background": "light"
     },
     "output_type": "display_data"
    }
   ],
   "source": [
    "ax = df['Perplexity'].plot.kde()"
   ]
  }
 ],
 "metadata": {
  "kernelspec": {
   "display_name": "Python 3",
   "language": "python",
   "name": "python3"
  },
  "language_info": {
   "codemirror_mode": {
    "name": "ipython",
    "version": 3
   },
   "file_extension": ".py",
   "mimetype": "text/x-python",
   "name": "python",
   "nbconvert_exporter": "python",
   "pygments_lexer": "ipython3",
   "version": "3.8.5"
  }
 },
 "nbformat": 4,
 "nbformat_minor": 4
}
