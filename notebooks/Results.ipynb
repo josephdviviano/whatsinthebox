{
 "cells": [
  {
   "cell_type": "code",
   "execution_count": 29,
   "metadata": {},
   "outputs": [],
   "source": [
    "import pickle\n",
    "import pandas as pd\n",
    "from sklearn.preprocessing import StandardScaler, MinMaxScaler\n",
    "import numpy as np"
   ]
  },
  {
   "cell_type": "code",
   "execution_count": 95,
   "metadata": {},
   "outputs": [],
   "source": [
    "with open('../witb_42.pkl', 'rb') as f:\n",
    "    data = pickle.load(f)  # might be pickle.load()"
   ]
  },
  {
   "cell_type": "code",
   "execution_count": 96,
   "metadata": {},
   "outputs": [
    {
     "data": {
      "text/plain": [
       "dict_keys(['n_total_docs', 'n_ok_docs', 'ngram', 'sonar', 'delimit', 'perplexity'])"
      ]
     },
     "execution_count": 96,
     "metadata": {},
     "output_type": "execute_result"
    }
   ],
   "source": [
    "data.keys()"
   ]
  },
  {
   "cell_type": "code",
   "execution_count": 149,
   "metadata": {},
   "outputs": [
    {
     "name": "stdout",
     "output_type": "stream",
     "text": [
      "14435\n"
     ]
    }
   ],
   "source": [
    "delimitlist=[]\n",
    "for n in data['delimit']:\n",
    "    delimitlist.append(n[3])\n",
    "print(len(delimitlist))"
   ]
  },
  {
   "cell_type": "code",
   "execution_count": 156,
   "metadata": {},
   "outputs": [
    {
     "name": "stdout",
     "output_type": "stream",
     "text": [
      "14435\n",
      "14435\n"
     ]
    }
   ],
   "source": [
    "sonarhate=[]\n",
    "sonaroffense=[]\n",
    "for n in data['sonar']:\n",
    "    sonarhate.append(n[3])\n",
    "    sonaroffense.append(n[4])\n",
    "\n",
    "print(len(sonarhate))\n",
    "print(len(sonaroffense))"
   ]
  },
  {
   "cell_type": "code",
   "execution_count": 122,
   "metadata": {},
   "outputs": [
    {
     "name": "stdout",
     "output_type": "stream",
     "text": [
      "pornography\n",
      "profanity\n",
      "hate-speech\n"
     ]
    }
   ],
   "source": [
    "for n in data['ngram']:\n",
    "    print(n)"
   ]
  },
  {
   "cell_type": "code",
   "execution_count": 167,
   "metadata": {},
   "outputs": [],
   "source": [
    "df = pd.DataFrame(columns=['Adult_Ngrams', 'Hate_Ngrams', 'Hate_Sonar', 'Hate_Delimit','Offense_Sonar', 'Profanity_Ngrams', 'Perplexity'])"
   ]
  },
  {
   "cell_type": "code",
   "execution_count": 170,
   "metadata": {},
   "outputs": [],
   "source": [
    "df['Adult_Ngrams']= data['ngram']['pornography']\n",
    "df['Hate_Ngrams']= data['ngram']['hate-speech']\n",
    "df['Hate_Sonar']= sonarhate\n",
    "df['Hate_Delimit']= delimitlist\n",
    "df['Offense_Sonar']= sonaroffense\n",
    "df['Profanity_Ngrams']= data['ngram']['profanity']\n",
    "\n",
    "df['Perplexity']= data['perplexity'].astype(float)\n",
    "df['Perplexity'] = df['Perplexity'].replace(-np.inf, np.nan)"
   ]
  },
  {
   "cell_type": "code",
   "execution_count": 171,
   "metadata": {},
   "outputs": [
    {
     "data": {
      "text/html": [
       "<div>\n",
       "<style scoped>\n",
       "    .dataframe tbody tr th:only-of-type {\n",
       "        vertical-align: middle;\n",
       "    }\n",
       "\n",
       "    .dataframe tbody tr th {\n",
       "        vertical-align: top;\n",
       "    }\n",
       "\n",
       "    .dataframe thead th {\n",
       "        text-align: right;\n",
       "    }\n",
       "</style>\n",
       "<table border=\"1\" class=\"dataframe\">\n",
       "  <thead>\n",
       "    <tr style=\"text-align: right;\">\n",
       "      <th></th>\n",
       "      <th>Adult_Ngrams</th>\n",
       "      <th>Hate_Ngrams</th>\n",
       "      <th>Hate_Sonar</th>\n",
       "      <th>Hate_Delimit</th>\n",
       "      <th>Offense_Sonar</th>\n",
       "      <th>Profanity_Ngrams</th>\n",
       "      <th>Perplexity</th>\n",
       "    </tr>\n",
       "  </thead>\n",
       "  <tbody>\n",
       "    <tr>\n",
       "      <th>0</th>\n",
       "      <td>0</td>\n",
       "      <td>0</td>\n",
       "      <td>0.633842</td>\n",
       "      <td>0.039891</td>\n",
       "      <td>0.321085</td>\n",
       "      <td>13</td>\n",
       "      <td>563.1</td>\n",
       "    </tr>\n",
       "    <tr>\n",
       "      <th>1</th>\n",
       "      <td>0</td>\n",
       "      <td>0</td>\n",
       "      <td>0.597723</td>\n",
       "      <td>0.117794</td>\n",
       "      <td>0.358293</td>\n",
       "      <td>6</td>\n",
       "      <td>433.7</td>\n",
       "    </tr>\n",
       "    <tr>\n",
       "      <th>2</th>\n",
       "      <td>0</td>\n",
       "      <td>0</td>\n",
       "      <td>0.644680</td>\n",
       "      <td>0.029545</td>\n",
       "      <td>0.285813</td>\n",
       "      <td>0</td>\n",
       "      <td>117.2</td>\n",
       "    </tr>\n",
       "    <tr>\n",
       "      <th>3</th>\n",
       "      <td>0</td>\n",
       "      <td>0</td>\n",
       "      <td>0.631415</td>\n",
       "      <td>0.041085</td>\n",
       "      <td>0.329559</td>\n",
       "      <td>0</td>\n",
       "      <td>570.7</td>\n",
       "    </tr>\n",
       "    <tr>\n",
       "      <th>4</th>\n",
       "      <td>0</td>\n",
       "      <td>0</td>\n",
       "      <td>0.635234</td>\n",
       "      <td>0.040569</td>\n",
       "      <td>0.322880</td>\n",
       "      <td>0</td>\n",
       "      <td>606.5</td>\n",
       "    </tr>\n",
       "  </tbody>\n",
       "</table>\n",
       "</div>"
      ],
      "text/plain": [
       "   Adult_Ngrams  Hate_Ngrams  Hate_Sonar  Hate_Delimit  Offense_Sonar  \\\n",
       "0             0            0    0.633842      0.039891       0.321085   \n",
       "1             0            0    0.597723      0.117794       0.358293   \n",
       "2             0            0    0.644680      0.029545       0.285813   \n",
       "3             0            0    0.631415      0.041085       0.329559   \n",
       "4             0            0    0.635234      0.040569       0.322880   \n",
       "\n",
       "   Profanity_Ngrams  Perplexity  \n",
       "0                13       563.1  \n",
       "1                 6       433.7  \n",
       "2                 0       117.2  \n",
       "3                 0       570.7  \n",
       "4                 0       606.5  "
      ]
     },
     "execution_count": 171,
     "metadata": {},
     "output_type": "execute_result"
    }
   ],
   "source": [
    "df.head()"
   ]
  },
  {
   "cell_type": "code",
   "execution_count": 175,
   "metadata": {},
   "outputs": [
    {
     "data": {
      "text/plain": [
       "count    14435.000000\n",
       "mean         0.619468\n",
       "std          0.040154\n",
       "min          0.000000\n",
       "25%          0.614679\n",
       "50%          0.624951\n",
       "75%          0.632290\n",
       "max          0.896470\n",
       "Name: Hate_Sonar, dtype: float64"
      ]
     },
     "execution_count": 175,
     "metadata": {},
     "output_type": "execute_result"
    }
   ],
   "source": [
    "df['Hate_Sonar'].describe()"
   ]
  },
  {
   "cell_type": "code",
   "execution_count": 189,
   "metadata": {},
   "outputs": [
    {
     "data": {
      "text/plain": [
       "14282"
      ]
     },
     "execution_count": 189,
     "metadata": {},
     "output_type": "execute_result"
    }
   ],
   "source": [
    "df['Hate_Sonar'][df.Hate_Sonar > 0.5].count()"
   ]
  },
  {
   "cell_type": "code",
   "execution_count": 176,
   "metadata": {},
   "outputs": [
    {
     "data": {
      "text/plain": [
       "count    14435.000000\n",
       "mean         0.052376\n",
       "std          0.023818\n",
       "min          0.000000\n",
       "25%          0.038723\n",
       "50%          0.047301\n",
       "75%          0.059238\n",
       "max          0.583624\n",
       "Name: Hate_Delimit, dtype: float64"
      ]
     },
     "execution_count": 176,
     "metadata": {},
     "output_type": "execute_result"
    }
   ],
   "source": [
    "df['Hate_Delimit'].describe()"
   ]
  },
  {
   "cell_type": "code",
   "execution_count": 190,
   "metadata": {},
   "outputs": [
    {
     "data": {
      "text/plain": [
       "1"
      ]
     },
     "execution_count": 190,
     "metadata": {},
     "output_type": "execute_result"
    }
   ],
   "source": [
    "df['Hate_Delimit'][df.Hate_Delimit > 0.5].count()"
   ]
  },
  {
   "cell_type": "code",
   "execution_count": 187,
   "metadata": {},
   "outputs": [
    {
     "name": "stdout",
     "output_type": "stream",
     "text": [
      "-0.1447176620347382\n"
     ]
    }
   ],
   "source": [
    "sonar = df['Hate_Sonar']\n",
    "delimit = df['Hate_Delimit']\n",
    "correlation = sonar.corr(delimit)\n",
    "print(correlation)"
   ]
  },
  {
   "cell_type": "code",
   "execution_count": 184,
   "metadata": {},
   "outputs": [
    {
     "data": {
      "text/html": [
       "<div>\n",
       "<style scoped>\n",
       "    .dataframe tbody tr th:only-of-type {\n",
       "        vertical-align: middle;\n",
       "    }\n",
       "\n",
       "    .dataframe tbody tr th {\n",
       "        vertical-align: top;\n",
       "    }\n",
       "\n",
       "    .dataframe thead th {\n",
       "        text-align: right;\n",
       "    }\n",
       "</style>\n",
       "<table border=\"1\" class=\"dataframe\">\n",
       "  <thead>\n",
       "    <tr style=\"text-align: right;\">\n",
       "      <th></th>\n",
       "      <th>Adult_Ngrams</th>\n",
       "      <th>Hate_Ngrams</th>\n",
       "      <th>Hate_Sonar</th>\n",
       "      <th>Hate_Delimit</th>\n",
       "      <th>Offense_Sonar</th>\n",
       "      <th>Profanity_Ngrams</th>\n",
       "      <th>Perplexity</th>\n",
       "      <th>Hate_Sonar_normalized</th>\n",
       "      <th>Hate_Delimit_normalized</th>\n",
       "    </tr>\n",
       "  </thead>\n",
       "  <tbody>\n",
       "    <tr>\n",
       "      <th>Adult_Ngrams</th>\n",
       "      <td>1.000000</td>\n",
       "      <td>0.220705</td>\n",
       "      <td>-0.221270</td>\n",
       "      <td>0.244320</td>\n",
       "      <td>0.301585</td>\n",
       "      <td>0.571702</td>\n",
       "      <td>0.031113</td>\n",
       "      <td>-0.221270</td>\n",
       "      <td>0.244320</td>\n",
       "    </tr>\n",
       "    <tr>\n",
       "      <th>Hate_Ngrams</th>\n",
       "      <td>0.220705</td>\n",
       "      <td>1.000000</td>\n",
       "      <td>-0.091617</td>\n",
       "      <td>0.149909</td>\n",
       "      <td>0.122800</td>\n",
       "      <td>0.450147</td>\n",
       "      <td>0.015123</td>\n",
       "      <td>-0.091617</td>\n",
       "      <td>0.149909</td>\n",
       "    </tr>\n",
       "    <tr>\n",
       "      <th>Hate_Sonar</th>\n",
       "      <td>-0.221270</td>\n",
       "      <td>-0.091617</td>\n",
       "      <td>1.000000</td>\n",
       "      <td>-0.144718</td>\n",
       "      <td>-0.072371</td>\n",
       "      <td>-0.149040</td>\n",
       "      <td>-0.015100</td>\n",
       "      <td>1.000000</td>\n",
       "      <td>-0.144718</td>\n",
       "    </tr>\n",
       "    <tr>\n",
       "      <th>Hate_Delimit</th>\n",
       "      <td>0.244320</td>\n",
       "      <td>0.149909</td>\n",
       "      <td>-0.144718</td>\n",
       "      <td>1.000000</td>\n",
       "      <td>0.345542</td>\n",
       "      <td>0.230153</td>\n",
       "      <td>0.066395</td>\n",
       "      <td>-0.144718</td>\n",
       "      <td>1.000000</td>\n",
       "    </tr>\n",
       "    <tr>\n",
       "      <th>Offense_Sonar</th>\n",
       "      <td>0.301585</td>\n",
       "      <td>0.122800</td>\n",
       "      <td>-0.072371</td>\n",
       "      <td>0.345542</td>\n",
       "      <td>1.000000</td>\n",
       "      <td>0.203348</td>\n",
       "      <td>0.028268</td>\n",
       "      <td>-0.072371</td>\n",
       "      <td>0.345542</td>\n",
       "    </tr>\n",
       "    <tr>\n",
       "      <th>Profanity_Ngrams</th>\n",
       "      <td>0.571702</td>\n",
       "      <td>0.450147</td>\n",
       "      <td>-0.149040</td>\n",
       "      <td>0.230153</td>\n",
       "      <td>0.203348</td>\n",
       "      <td>1.000000</td>\n",
       "      <td>0.006790</td>\n",
       "      <td>-0.149040</td>\n",
       "      <td>0.230153</td>\n",
       "    </tr>\n",
       "    <tr>\n",
       "      <th>Perplexity</th>\n",
       "      <td>0.031113</td>\n",
       "      <td>0.015123</td>\n",
       "      <td>-0.015100</td>\n",
       "      <td>0.066395</td>\n",
       "      <td>0.028268</td>\n",
       "      <td>0.006790</td>\n",
       "      <td>1.000000</td>\n",
       "      <td>-0.015100</td>\n",
       "      <td>0.066395</td>\n",
       "    </tr>\n",
       "    <tr>\n",
       "      <th>Hate_Sonar_normalized</th>\n",
       "      <td>-0.221270</td>\n",
       "      <td>-0.091617</td>\n",
       "      <td>1.000000</td>\n",
       "      <td>-0.144718</td>\n",
       "      <td>-0.072371</td>\n",
       "      <td>-0.149040</td>\n",
       "      <td>-0.015100</td>\n",
       "      <td>1.000000</td>\n",
       "      <td>-0.144718</td>\n",
       "    </tr>\n",
       "    <tr>\n",
       "      <th>Hate_Delimit_normalized</th>\n",
       "      <td>0.244320</td>\n",
       "      <td>0.149909</td>\n",
       "      <td>-0.144718</td>\n",
       "      <td>1.000000</td>\n",
       "      <td>0.345542</td>\n",
       "      <td>0.230153</td>\n",
       "      <td>0.066395</td>\n",
       "      <td>-0.144718</td>\n",
       "      <td>1.000000</td>\n",
       "    </tr>\n",
       "  </tbody>\n",
       "</table>\n",
       "</div>"
      ],
      "text/plain": [
       "                         Adult_Ngrams  Hate_Ngrams  Hate_Sonar  Hate_Delimit  \\\n",
       "Adult_Ngrams                 1.000000     0.220705   -0.221270      0.244320   \n",
       "Hate_Ngrams                  0.220705     1.000000   -0.091617      0.149909   \n",
       "Hate_Sonar                  -0.221270    -0.091617    1.000000     -0.144718   \n",
       "Hate_Delimit                 0.244320     0.149909   -0.144718      1.000000   \n",
       "Offense_Sonar                0.301585     0.122800   -0.072371      0.345542   \n",
       "Profanity_Ngrams             0.571702     0.450147   -0.149040      0.230153   \n",
       "Perplexity                   0.031113     0.015123   -0.015100      0.066395   \n",
       "Hate_Sonar_normalized       -0.221270    -0.091617    1.000000     -0.144718   \n",
       "Hate_Delimit_normalized      0.244320     0.149909   -0.144718      1.000000   \n",
       "\n",
       "                         Offense_Sonar  Profanity_Ngrams  Perplexity  \\\n",
       "Adult_Ngrams                  0.301585          0.571702    0.031113   \n",
       "Hate_Ngrams                   0.122800          0.450147    0.015123   \n",
       "Hate_Sonar                   -0.072371         -0.149040   -0.015100   \n",
       "Hate_Delimit                  0.345542          0.230153    0.066395   \n",
       "Offense_Sonar                 1.000000          0.203348    0.028268   \n",
       "Profanity_Ngrams              0.203348          1.000000    0.006790   \n",
       "Perplexity                    0.028268          0.006790    1.000000   \n",
       "Hate_Sonar_normalized        -0.072371         -0.149040   -0.015100   \n",
       "Hate_Delimit_normalized       0.345542          0.230153    0.066395   \n",
       "\n",
       "                         Hate_Sonar_normalized  Hate_Delimit_normalized  \n",
       "Adult_Ngrams                         -0.221270                 0.244320  \n",
       "Hate_Ngrams                          -0.091617                 0.149909  \n",
       "Hate_Sonar                            1.000000                -0.144718  \n",
       "Hate_Delimit                         -0.144718                 1.000000  \n",
       "Offense_Sonar                        -0.072371                 0.345542  \n",
       "Profanity_Ngrams                     -0.149040                 0.230153  \n",
       "Perplexity                           -0.015100                 0.066395  \n",
       "Hate_Sonar_normalized                 1.000000                -0.144718  \n",
       "Hate_Delimit_normalized              -0.144718                 1.000000  "
      ]
     },
     "execution_count": 184,
     "metadata": {},
     "output_type": "execute_result"
    }
   ],
   "source": [
    "df.corr()"
   ]
  },
  {
   "cell_type": "code",
   "execution_count": 108,
   "metadata": {},
   "outputs": [],
   "source": [
    "#normalizing sonar values\n",
    "x = df[['Perplexity']].values.astype(float)\n",
    "\n",
    "# Create a minimum and maximum processor object\n",
    "min_max_scaler = MinMaxScaler()\n",
    "\n",
    "# Create an object to transform the data to fit minmax processor\n",
    "x_scaled = min_max_scaler.fit_transform(x)\n",
    "\n",
    "# Run the normalizer on the dataframe\n",
    "df['Perplexity_normalized'] = pd.DataFrame(x_scaled)"
   ]
  },
  {
   "cell_type": "code",
   "execution_count": 180,
   "metadata": {},
   "outputs": [],
   "source": [
    "#normalizing sonar values\n",
    "x = df[['Hate_Sonar']].values.astype(float)\n",
    "\n",
    "# Create a minimum and maximum processor object\n",
    "min_max_scaler = MinMaxScaler()\n",
    "\n",
    "# Create an object to transform the data to fit minmax processor\n",
    "x_scaled = min_max_scaler.fit_transform(x)\n",
    "\n",
    "# Run the normalizer on the dataframe\n",
    "df['Hate_Sonar_normalized'] = pd.DataFrame(x_scaled)"
   ]
  },
  {
   "cell_type": "code",
   "execution_count": 188,
   "metadata": {},
   "outputs": [
    {
     "data": {
      "text/plain": [
       "count    14435.000000\n",
       "mean         0.052376\n",
       "std          0.023818\n",
       "min          0.000000\n",
       "25%          0.038723\n",
       "50%          0.047301\n",
       "75%          0.059238\n",
       "max          0.583624\n",
       "Name: Hate_Delimit, dtype: float64"
      ]
     },
     "execution_count": 188,
     "metadata": {},
     "output_type": "execute_result"
    }
   ],
   "source": [
    "df['Hate_Delimit'].describe()"
   ]
  },
  {
   "cell_type": "code",
   "execution_count": 181,
   "metadata": {},
   "outputs": [],
   "source": [
    "#normalizing sonar values\n",
    "x = df[['Hate_Delimit']].values.astype(float)\n",
    "\n",
    "# Create a minimum and maximum processor object\n",
    "min_max_scaler = MinMaxScaler()\n",
    "\n",
    "# Create an object to transform the data to fit minmax processor\n",
    "x_scaled = min_max_scaler.fit_transform(x)\n",
    "\n",
    "# Run the normalizer on the dataframe\n",
    "df['Hate_Delimit_normalized'] = pd.DataFrame(x_scaled)"
   ]
  },
  {
   "cell_type": "code",
   "execution_count": 41,
   "metadata": {},
   "outputs": [
    {
     "data": {
      "text/plain": [
       "0.02570142015933495"
      ]
     },
     "execution_count": 41,
     "metadata": {},
     "output_type": "execute_result"
    }
   ],
   "source": [
    "(df['Adult_Ngrams'][df.Adult_Ngrams > 0].count()) / (df['Adult_Ngrams'][df.Adult_Ngrams >= 0].count())"
   ]
  },
  {
   "cell_type": "code",
   "execution_count": 43,
   "metadata": {},
   "outputs": [
    {
     "data": {
      "text/plain": [
       "0.6864565292691375"
      ]
     },
     "execution_count": 43,
     "metadata": {},
     "output_type": "execute_result"
    }
   ],
   "source": [
    "(df['Profanity_Ngrams'][df.Profanity_Ngrams > 0].count()) / (df['Profanity_Ngrams'][df.Profanity_Ngrams >= 0].count())"
   ]
  },
  {
   "cell_type": "code",
   "execution_count": 45,
   "metadata": {},
   "outputs": [
    {
     "data": {
      "text/plain": [
       "0.17499134049186008"
      ]
     },
     "execution_count": 45,
     "metadata": {},
     "output_type": "execute_result"
    }
   ],
   "source": [
    "(df['Hate_Ngrams'][df.Hate_Ngrams > 0].count()) / (df['Hate_Ngrams'][df.Hate_Ngrams >= 0].count())"
   ]
  },
  {
   "cell_type": "code",
   "execution_count": 21,
   "metadata": {},
   "outputs": [
    {
     "data": {
      "text/plain": [
       "1392"
      ]
     },
     "execution_count": 21,
     "metadata": {},
     "output_type": "execute_result"
    }
   ],
   "source": [
    "df['Hate_Ngrams'][df.Hate_Ngrams > 1].count()"
   ]
  },
  {
   "cell_type": "code",
   "execution_count": 192,
   "metadata": {},
   "outputs": [
    {
     "data": {
      "image/png": "[encoded data removed]",
      "text/plain": [
       "<Figure size 432x288 with 1 Axes>"
      ]
     },
     "metadata": {
      "needs_background": "light"
     },
     "output_type": "display_data"
    }
   ],
   "source": [
    "ax = df['Hate_Sonar'].plot.kde()"
   ]
  },
  {
   "cell_type": "code",
   "execution_count": 191,
   "metadata": {},
   "outputs": [
    {
     "data": {
      "image/png": "[encoded data removed]",
      "text/plain": [
       "<Figure size 432x288 with 1 Axes>"
      ]
     },
     "metadata": {
      "needs_background": "light"
     },
     "output_type": "display_data"
    }
   ],
   "source": [
    "ax = df['Hate_Delimit'].plot.kde()"
   ]
  },
  {
   "cell_type": "code",
   "execution_count": 194,
   "metadata": {},
   "outputs": [
    {
     "data": {
      "image/png": "[encoded data removed]",
      "text/plain": [
       "<Figure size 432x288 with 1 Axes>"
      ]
     },
     "metadata": {
      "needs_background": "light"
     },
     "output_type": "display_data"
    }
   ],
   "source": [
    "ax = df['Perplexity'].plot.kde()"
   ]
  },
  {
   "cell_type": "code",
   "execution_count": 116,
   "metadata": {},
   "outputs": [
    {
     "data": {
      "text/plain": [
       "6"
      ]
     },
     "execution_count": 116,
     "metadata": {},
     "output_type": "execute_result"
    }
   ],
   "source": [
    "df['Hate_Sonar_normalized'][df.Hate_Sonar_normalized > 0.5].count()"
   ]
  },
  {
   "cell_type": "code",
   "execution_count": null,
   "metadata": {},
   "outputs": [],
   "source": []
  }
 ],
 "metadata": {
  "kernelspec": {
   "display_name": "Python 3",
   "language": "python",
   "name": "python3"
  },
  "language_info": {
   "codemirror_mode": {
    "name": "ipython",
    "version": 3
   },
   "file_extension": ".py",
   "mimetype": "text/x-python",
   "name": "python",
   "nbconvert_exporter": "python",
   "pygments_lexer": "ipython3",
   "version": "3.8.5"
  }
 },
 "nbformat": 4,
 "nbformat_minor": 4
}
