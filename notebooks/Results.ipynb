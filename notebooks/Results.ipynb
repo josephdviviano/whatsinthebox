{
 "cells": [
  {
   "cell_type": "code",
   "execution_count": 1,
   "metadata": {},
   "outputs": [],
   "source": [
    "import pickle\n",
    "import pandas as pd"
   ]
  },
  {
   "cell_type": "code",
   "execution_count": 17,
   "metadata": {},
   "outputs": [],
   "source": [
    "with open('outputs/witb_16.pkl', 'rb') as f:\n",
    "    data = pickle.load(f)  # might be pickle.load()"
   ]
  },
  {
   "cell_type": "code",
   "execution_count": 18,
   "metadata": {},
   "outputs": [
    {
     "data": {
      "text/plain": [
       "dict_keys(['n_total_docs', 'n_ok_docs', 'ngram', 'sonar', 'delimit', 'perplexity'])"
      ]
     },
     "execution_count": 18,
     "metadata": {},
     "output_type": "execute_result"
    }
   ],
   "source": [
    "data.keys()"
   ]
  },
  {
   "cell_type": "code",
   "execution_count": 114,
   "metadata": {},
   "outputs": [
    {
     "name": "stdout",
     "output_type": "stream",
     "text": [
      "pornography\n",
      "profanity\n",
      "hate-speech\n"
     ]
    }
   ],
   "source": [
    "for n in data['ngram']:\n",
    "    print(n)"
   ]
  },
  {
   "cell_type": "code",
   "execution_count": 115,
   "metadata": {},
   "outputs": [],
   "source": [
    "df = pd.DataFrame(columns=['Adult_Ngrams', 'Profanity_Ngrams', 'Hate_Ngrams', 'Hate_Sonar', 'Hate_Delimit','Perplexity'])"
   ]
  },
  {
   "cell_type": "code",
   "execution_count": 136,
   "metadata": {},
   "outputs": [],
   "source": [
    "df['Adult_Ngrams']= data['ngram']['pornography']\n",
    "df['Profanity_Ngrams']= data['ngram']['profanity']\n",
    "df['Hate_Ngrams']= data['ngram']['hate-speech']\n",
    "df['Hate_Sonar']= data['sonar'].astype(float)\n",
    "df['Hate_Delimit']= data['delimit']\n",
    "df['Perplexity']= data['perplexity']\n"
   ]
  },
  {
   "cell_type": "code",
   "execution_count": 143,
   "metadata": {},
   "outputs": [
    {
     "data": {
      "text/html": [
       "<div>\n",
       "<style scoped>\n",
       "    .dataframe tbody tr th:only-of-type {\n",
       "        vertical-align: middle;\n",
       "    }\n",
       "\n",
       "    .dataframe tbody tr th {\n",
       "        vertical-align: top;\n",
       "    }\n",
       "\n",
       "    .dataframe thead th {\n",
       "        text-align: right;\n",
       "    }\n",
       "</style>\n",
       "<table border=\"1\" class=\"dataframe\">\n",
       "  <thead>\n",
       "    <tr style=\"text-align: right;\">\n",
       "      <th></th>\n",
       "      <th>Adult_Ngrams</th>\n",
       "      <th>Profanity_Ngrams</th>\n",
       "      <th>Hate_Ngrams</th>\n",
       "      <th>Hate_Sonar</th>\n",
       "      <th>Hate_Delimit</th>\n",
       "      <th>Perplexity</th>\n",
       "      <th>Hate_Sonar_normalized</th>\n",
       "      <th>Hate_Delimit_normalized</th>\n",
       "    </tr>\n",
       "  </thead>\n",
       "  <tbody>\n",
       "    <tr>\n",
       "      <th>0</th>\n",
       "      <td>0</td>\n",
       "      <td>0</td>\n",
       "      <td>0</td>\n",
       "      <td>1.0</td>\n",
       "      <td>1.0</td>\n",
       "      <td>307.7</td>\n",
       "      <td>0.000136</td>\n",
       "      <td>0.033333</td>\n",
       "    </tr>\n",
       "    <tr>\n",
       "      <th>1</th>\n",
       "      <td>0</td>\n",
       "      <td>0</td>\n",
       "      <td>0</td>\n",
       "      <td>4.0</td>\n",
       "      <td>4.0</td>\n",
       "      <td>1013.0</td>\n",
       "      <td>0.000544</td>\n",
       "      <td>0.133333</td>\n",
       "    </tr>\n",
       "    <tr>\n",
       "      <th>2</th>\n",
       "      <td>14</td>\n",
       "      <td>46</td>\n",
       "      <td>4</td>\n",
       "      <td>12.0</td>\n",
       "      <td>17.0</td>\n",
       "      <td>2754.1</td>\n",
       "      <td>0.001631</td>\n",
       "      <td>0.566667</td>\n",
       "    </tr>\n",
       "    <tr>\n",
       "      <th>3</th>\n",
       "      <td>0</td>\n",
       "      <td>0</td>\n",
       "      <td>0</td>\n",
       "      <td>22.0</td>\n",
       "      <td>22.0</td>\n",
       "      <td>1051.4</td>\n",
       "      <td>0.002990</td>\n",
       "      <td>0.733333</td>\n",
       "    </tr>\n",
       "    <tr>\n",
       "      <th>4</th>\n",
       "      <td>0</td>\n",
       "      <td>0</td>\n",
       "      <td>0</td>\n",
       "      <td>75.0</td>\n",
       "      <td>30.0</td>\n",
       "      <td>2966.7</td>\n",
       "      <td>0.010192</td>\n",
       "      <td>1.000000</td>\n",
       "    </tr>\n",
       "  </tbody>\n",
       "</table>\n",
       "</div>"
      ],
      "text/plain": [
       "   Adult_Ngrams  Profanity_Ngrams  Hate_Ngrams  Hate_Sonar  Hate_Delimit  \\\n",
       "0             0                 0            0         1.0           1.0   \n",
       "1             0                 0            0         4.0           4.0   \n",
       "2            14                46            4        12.0          17.0   \n",
       "3             0                 0            0        22.0          22.0   \n",
       "4             0                 0            0        75.0          30.0   \n",
       "\n",
       "   Perplexity  Hate_Sonar_normalized  Hate_Delimit_normalized  \n",
       "0       307.7               0.000136                 0.033333  \n",
       "1      1013.0               0.000544                 0.133333  \n",
       "2      2754.1               0.001631                 0.566667  \n",
       "3      1051.4               0.002990                 0.733333  \n",
       "4      2966.7               0.010192                 1.000000  "
      ]
     },
     "execution_count": 143,
     "metadata": {},
     "output_type": "execute_result"
    }
   ],
   "source": [
    "df.head()"
   ]
  },
  {
   "cell_type": "code",
   "execution_count": 153,
   "metadata": {},
   "outputs": [
    {
     "data": {
      "text/plain": [
       "count    14538.00\n",
       "mean         -inf\n",
       "std           NaN\n",
       "min          -inf\n",
       "25%        499.20\n",
       "50%        846.70\n",
       "75%       1474.95\n",
       "max      98496.90\n",
       "Name: Perplexity, dtype: float64"
      ]
     },
     "execution_count": 153,
     "metadata": {},
     "output_type": "execute_result"
    }
   ],
   "source": [
    "df['Perplexity'].describe()"
   ]
  },
  {
   "cell_type": "code",
   "execution_count": 137,
   "metadata": {},
   "outputs": [],
   "source": [
    "#normalizing sonar values\n",
    "x = df[['Hate_Sonar']].values.astype(float)\n",
    "\n",
    "# Create a minimum and maximum processor object\n",
    "min_max_scaler = preprocessing.MinMaxScaler()\n",
    "\n",
    "# Create an object to transform the data to fit minmax processor\n",
    "x_scaled = min_max_scaler.fit_transform(x)\n",
    "\n",
    "# Run the normalizer on the dataframe\n",
    "df['Hate_Sonar_normalized'] = pd.DataFrame(x_scaled)"
   ]
  },
  {
   "cell_type": "code",
   "execution_count": 141,
   "metadata": {},
   "outputs": [
    {
     "data": {
      "text/plain": [
       "count    14538.000000\n",
       "mean        23.104966\n",
       "std          9.209648\n",
       "min          0.000000\n",
       "25%         16.000000\n",
       "50%         30.000000\n",
       "75%         30.000000\n",
       "max         30.000000\n",
       "Name: Hate_Delimit, dtype: float64"
      ]
     },
     "execution_count": 141,
     "metadata": {},
     "output_type": "execute_result"
    }
   ],
   "source": [
    "df['Hate_Delimit'].describe()"
   ]
  },
  {
   "cell_type": "code",
   "execution_count": 142,
   "metadata": {},
   "outputs": [],
   "source": [
    "#normalizing sonar values\n",
    "x = df[['Hate_Delimit']].values.astype(float)\n",
    "\n",
    "# Create a minimum and maximum processor object\n",
    "min_max_scaler = preprocessing.MinMaxScaler()\n",
    "\n",
    "# Create an object to transform the data to fit minmax processor\n",
    "x_scaled = min_max_scaler.fit_transform(x)\n",
    "\n",
    "# Run the normalizer on the dataframe\n",
    "df['Hate_Delimit_normalized'] = pd.DataFrame(x_scaled)"
   ]
  },
  {
   "cell_type": "code",
   "execution_count": 130,
   "metadata": {},
   "outputs": [
    {
     "data": {
      "text/plain": [
       "249"
      ]
     },
     "execution_count": 130,
     "metadata": {},
     "output_type": "execute_result"
    }
   ],
   "source": [
    "df['Adult_Ngrams'][df.Adult_Ngrams > 1].count()"
   ]
  },
  {
   "cell_type": "code",
   "execution_count": 83,
   "metadata": {},
   "outputs": [
    {
     "data": {
      "text/plain": [
       "8162"
      ]
     },
     "execution_count": 83,
     "metadata": {},
     "output_type": "execute_result"
    }
   ],
   "source": [
    "df['Profanity_Ngrams'][df.Profanity_Ngrams > 1].count()"
   ]
  },
  {
   "cell_type": "code",
   "execution_count": 90,
   "metadata": {},
   "outputs": [
    {
     "data": {
      "text/plain": [
       "1508"
      ]
     },
     "execution_count": 90,
     "metadata": {},
     "output_type": "execute_result"
    }
   ],
   "source": [
    "df['Hate_Ngrams'][df.Hate_Ngrams > 1].count()"
   ]
  },
  {
   "cell_type": "code",
   "execution_count": 91,
   "metadata": {},
   "outputs": [
    {
     "data": {
      "text/plain": [
       "14251"
      ]
     },
     "execution_count": 91,
     "metadata": {},
     "output_type": "execute_result"
    }
   ],
   "source": [
    "df['Hate_Sonar'][df.Hate_Sonar > 1].count()"
   ]
  },
  {
   "cell_type": "code",
   "execution_count": 151,
   "metadata": {},
   "outputs": [
    {
     "data": {
      "image/png": "[encoded data removed]",
      "text/plain": [
       "<Figure size 432x288 with 1 Axes>"
      ]
     },
     "metadata": {
      "needs_background": "light"
     },
     "output_type": "display_data"
    }
   ],
   "source": [
    "import matplotlib.pyplot as plt\n",
    "\n",
    "bins= [0, 0.01, 0.05, 0.1]\n",
    "plt.hist(df['Hate_Sonar_normalized'].values, bins=bins, edgecolor=\"k\")\n",
    "plt.xticks(bins)\n",
    "\n",
    "plt.show()\n"
   ]
  },
  {
   "cell_type": "code",
   "execution_count": 152,
   "metadata": {},
   "outputs": [
    {
     "data": {
      "image/png": "[encoded data removed]",
      "text/plain": [
       "<Figure size 432x288 with 1 Axes>"
      ]
     },
     "metadata": {
      "needs_background": "light"
     },
     "output_type": "display_data"
    }
   ],
   "source": [
    "import matplotlib.pyplot as plt\n",
    "\n",
    "bins= [0, 0.01, 0.05, 0.1]\n",
    "plt.hist(df['Hate_Delimit_normalized'].values, bins=bins, edgecolor=\"k\")\n",
    "plt.xticks(bins)\n",
    "\n",
    "plt.show()\n"
   ]
  },
  {
   "cell_type": "code",
   "execution_count": 92,
   "metadata": {},
   "outputs": [
    {
     "data": {
      "text/plain": [
       "14250"
      ]
     },
     "execution_count": 92,
     "metadata": {},
     "output_type": "execute_result"
    }
   ],
   "source": [
    "df['Hate_Delimit'][df.Hate_Delimit > 1].count()"
   ]
  },
  {
   "cell_type": "code",
   "execution_count": 78,
   "metadata": {},
   "outputs": [
    {
     "data": {
      "text/plain": [
       "0       4584\n",
       "1       1792\n",
       "2       1326\n",
       "3        987\n",
       "4        787\n",
       "        ... \n",
       "162        1\n",
       "186        1\n",
       "194        1\n",
       "202        1\n",
       "1619       1\n",
       "Name: Profanity_Ngrams, Length: 231, dtype: int64"
      ]
     },
     "execution_count": 78,
     "metadata": {},
     "output_type": "execute_result"
    }
   ],
   "source": [
    "df['Profanity_Ngrams'].value_counts()"
   ]
  }
 ],
 "metadata": {
  "kernelspec": {
   "display_name": "Python 3 (perplex)",
   "language": "python",
   "name": "perplex"
  },
  "language_info": {
   "codemirror_mode": {
    "name": "ipython",
    "version": 3
   },
   "file_extension": ".py",
   "mimetype": "text/x-python",
   "name": "python",
   "nbconvert_exporter": "python",
   "pygments_lexer": "ipython3",
   "version": "3.7.9"
  }
 },
 "nbformat": 4,
 "nbformat_minor": 4
}
