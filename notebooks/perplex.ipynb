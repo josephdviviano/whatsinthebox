{
 "cells": [
  {
   "cell_type": "code",
   "execution_count": 1,
   "metadata": {},
   "outputs": [],
   "source": [
    "# Local scripts\n",
    "from cc_net import dedup, execution, jsonql, minify, perplexity, process_wet_file,  text_normalizer\n",
    "\n",
    "\n",
    "import kenlm  # type: ignore\n",
    "import numpy as np  # type: ignore\n",
    "import pandas as pd  # type: ignore\n",
    "import sentencepiece  # type: ignore"
   ]
  },
  {
   "cell_type": "code",
   "execution_count": 2,
   "metadata": {},
   "outputs": [],
   "source": [
    "modelpath = '/home/mila/l/lucciona/cc_net/data/lm_sp/en.arpa.bin'"
   ]
  },
  {
   "cell_type": "code",
   "execution_count": 3,
   "metadata": {},
   "outputs": [],
   "source": [
    "sppath = '/home/mila/l/lucciona/cc_net/data/lm_sp/en.sp.model'"
   ]
  },
  {
   "cell_type": "code",
   "execution_count": 4,
   "metadata": {},
   "outputs": [],
   "source": [
    "df=pd.read_csv('/home/mila/l/lucciona/commoncrawl/parseddata/ccdata14.csv')"
   ]
  },
  {
   "cell_type": "code",
   "execution_count": 5,
   "metadata": {},
   "outputs": [],
   "source": [
    "doc=df.Content[205]"
   ]
  },
  {
   "cell_type": "code",
   "execution_count": 6,
   "metadata": {},
   "outputs": [],
   "source": [
    "sp = sentencepiece.SentencePieceProcessor(sppath)"
   ]
  },
  {
   "cell_type": "code",
   "execution_count": 7,
   "metadata": {},
   "outputs": [],
   "source": [
    "text = text_normalizer.normalize(doc)\n",
    "tokenized = sp.encode_as_pieces(text)"
   ]
  },
  {
   "cell_type": "code",
   "execution_count": 8,
   "metadata": {},
   "outputs": [
    {
     "name": "stdout",
     "output_type": "stream",
     "text": [
      "100\n"
     ]
    }
   ],
   "source": [
    "print(len(text.split()))"
   ]
  },
  {
   "cell_type": "code",
   "execution_count": 9,
   "metadata": {},
   "outputs": [
    {
     "name": "stdout",
     "output_type": "stream",
     "text": [
      "['▁community', '▁garden', '▁bolton', '▁park', '▁neighbors', '▁bolton', '▁park', '▁neighbors', '▁bolton', '▁park', '▁neighbors', '▁search', '▁skip', '▁content', '▁home', '▁community', '▁garden', '▁garden', '▁home', '▁tour', '▁history', '▁mission', '▁statement', '▁newington', '▁triangle', '▁park', '▁renovation', '▁community', '▁garden', '▁the', '▁lennox', '▁street', '▁community', '▁garden', '▁located', '▁lennox', '▁st', '▁vacant', '▁lot', '▁reclaim', 'ed', '▁neighborhood', '▁provide', '▁city', '▁residents', '▁place', '▁grow', '▁food', '▁gardener', 's', '▁come', '▁various', '▁parts', '▁city', '▁work', '▁individual', '▁plots', '▁educate', '▁children', '▁process', '▁growing', '▁plants', '▁spend', '▁time', '▁neighbors', '▁for', '▁info', '▁contact', '▁lennox', 'garden', '▁g', 'mail', '.', 'com', '▁news', '▁block', '▁club', '▁meet', '-', 'and', '-', 'gre', 'et', '▁march', '▁', 'th', '▁september', '▁month', '▁month', '▁list', '▁week', '▁day', '▁s', '▁m', '▁tu', '▁w', '▁', 'th', '▁f', '▁s', '▁pages', '▁bolton', '▁park', '▁neighbors', '▁historic', '▁reservoir', '▁hill', '▁community', '▁garden', '▁garden', '▁home', '▁tour', '▁history', '.', '.', '.']\n",
      "116\n"
     ]
    }
   ],
   "source": [
    "print(tokenized)\n",
    "print(len(tokenized))"
   ]
  },
  {
   "cell_type": "code",
   "execution_count": 10,
   "metadata": {},
   "outputs": [
    {
     "name": "stdout",
     "output_type": "stream",
     "text": [
      "▁community ▁garden ▁bolton ▁park ▁neighbors ▁bolton ▁park ▁neighbors ▁bolton ▁park ▁neighbors ▁search ▁skip ▁content ▁home ▁community ▁garden ▁garden ▁home ▁tour ▁history ▁mission ▁statement ▁newington ▁triangle ▁park ▁renovation ▁community ▁garden ▁the ▁lennox ▁street ▁community ▁garden ▁located ▁lennox ▁st ▁vacant ▁lot ▁reclaim ed ▁neighborhood ▁provide ▁city ▁residents ▁place ▁grow ▁food ▁gardener s ▁come ▁various ▁parts ▁city ▁work ▁individual ▁plots ▁educate ▁children ▁process ▁growing ▁plants ▁spend ▁time ▁neighbors ▁for ▁info ▁contact ▁lennox garden ▁g mail . com ▁news ▁block ▁club ▁meet - and - gre et ▁march ▁ th ▁september ▁month ▁month ▁list ▁week ▁day ▁s ▁m ▁tu ▁w ▁ th ▁f ▁s ▁pages ▁bolton ▁park ▁neighbors ▁historic ▁reservoir ▁hill ▁community ▁garden ▁garden ▁home ▁tour ▁history . . .\n",
      "116\n"
     ]
    }
   ],
   "source": [
    "document= \" \".join(tokenized)\n",
    "print(document)\n",
    "print(len(document.split()))"
   ]
  },
  {
   "cell_type": "code",
   "execution_count": 11,
   "metadata": {},
   "outputs": [],
   "source": [
    "model = kenlm.Model(modelpath)"
   ]
  },
  {
   "cell_type": "code",
   "execution_count": 12,
   "metadata": {},
   "outputs": [
    {
     "name": "stdout",
     "output_type": "stream",
     "text": [
      "-442.8237609863281\n"
     ]
    }
   ],
   "source": [
    "log_score = model.score(document)\n",
    "print(log_score)"
   ]
  },
  {
   "cell_type": "code",
   "execution_count": 14,
   "metadata": {},
   "outputs": [
    {
     "name": "stdout",
     "output_type": "stream",
     "text": [
      "4.054341518227868e+147\n"
     ]
    }
   ],
   "source": [
    "#not sure about this thing -- I think you're supposed to normalize over the number of sentences in the doc?\n",
    "#https://github.com/facebookresearch/cc_net/blob/bda555bd1cf1ee2e0b925363e62a61cd46c8b60d/cc_net/perplexity.py#L38\n",
    "print(10.0 ** (-log_score / 3))"
   ]
  }
 ],
 "metadata": {
  "kernelspec": {
   "display_name": "Python 3 (perplex)",
   "language": "python",
   "name": "perplex"
  },
  "language_info": {
   "codemirror_mode": {
    "name": "ipython",
    "version": 3
   },
   "file_extension": ".py",
   "mimetype": "text/x-python",
   "name": "python",
   "nbconvert_exporter": "python",
   "pygments_lexer": "ipython3",
   "version": "3.7.9"
  }
 },
 "nbformat": 4,
 "nbformat_minor": 4
}
