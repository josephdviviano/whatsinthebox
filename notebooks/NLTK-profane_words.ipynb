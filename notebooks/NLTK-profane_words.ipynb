{
 "cells": [
  {
   "cell_type": "code",
   "execution_count": 2,
   "metadata": {},
   "outputs": [],
   "source": [
    "#!/usr/bin/env python\n",
    "import os\n",
    "from witb.utils import ioutils as io\n",
    "from witb.globals import DATA_DIR\n",
    "import time  \n",
    "import nltk\n",
    "import csv\n",
    "import re, string\n",
    "import collections\n",
    "from collections import Counter\n",
    "from nltk.tokenize import word_tokenize\n",
    "from nltk.corpus import stopwords\n",
    "import datetime"
   ]
  },
  {
   "cell_type": "code",
   "execution_count": 13,
   "metadata": {},
   "outputs": [],
   "source": [
    "stop_words = set(stopwords.words('english'))"
   ]
  },
  {
   "cell_type": "code",
   "execution_count": 3,
   "metadata": {},
   "outputs": [],
   "source": [
    "DATA_DIR=\"/home/sasha/Documents/MilaPostDoc/Python/CommonCrawl\""
   ]
  },
  {
   "cell_type": "code",
   "execution_count": 4,
   "metadata": {},
   "outputs": [],
   "source": [
    "profane='wordlists/profane_words.txt'"
   ]
  },
  {
   "cell_type": "code",
   "execution_count": 7,
   "metadata": {},
   "outputs": [
    {
     "name": "stdout",
     "output_type": "stream",
     "text": [
      "1383\n"
     ]
    }
   ],
   "source": [
    "profanelist = []\n",
    "with open(profane, newline='') as inputfile:\n",
    "    for row in inputfile:\n",
    "        profanelist.append(row.strip())\n",
    "print(len(profanelist))"
   ]
  },
  {
   "cell_type": "code",
   "execution_count": 8,
   "metadata": {},
   "outputs": [
    {
     "data": {
      "text/plain": [
       "'addicts'"
      ]
     },
     "execution_count": 8,
     "metadata": {},
     "output_type": "execute_result"
    }
   ],
   "source": [
    "profanelist[5]"
   ]
  },
  {
   "cell_type": "code",
   "execution_count": 9,
   "metadata": {},
   "outputs": [],
   "source": [
    "filenames = os.listdir(DATA_DIR)\n",
    "filename = os.path.join(DATA_DIR, filenames[0])\n",
    "\n",
    "data = io.get_entries(io.read_wet_file(filename))\n",
    "parsed_data = io.parse_data(data)  # Generator.\n",
    "\n",
    "docs = []\n",
    "start_time = time.time()\n",
    "for doc in parsed_data:\n",
    "    docs.append(doc)"
   ]
  },
  {
   "cell_type": "code",
   "execution_count": 18,
   "metadata": {},
   "outputs": [],
   "source": [
    "for doc in docs:\n",
    "    if doc.url=='www.sunindianporn.com':\n",
    "        testdoc=doc.content"
   ]
  },
  {
   "cell_type": "code",
   "execution_count": 19,
   "metadata": {},
   "outputs": [
    {
     "data": {
      "text/plain": [
       "'xxx animals video Indian videos\\nnaked male hazing | korean movie taste | porrn of bree olson | sex toys affiliate\\nSun Indian Porn\\npussy sex gym\\namrita aroraxxx\\nTaboo kristi\\nrita teen model\\nEnglish English Deutsch Français Italiano Русский Español Türkçe Português Nederlands Polski Vietnamese 日本語 한국어 ภาษาไทย हिंदी বাঙালি العربية\\nSearch...\\nxxx animals video videos\\nRating: 4 ★\\nStudent and teacher viral sex video bangladeshi\\n2:00\\nBig black cock in tight pussy video download at www period xjona period com\\n27:00\\nXxx brother hard fuck with audio\\n4:00\\nBest vive porn Xxx amateur gangbangs comma Anal gaping comma squirting\\n4:00\\nBig ass Xxx video horny slut all holes filled\\n11:00\\nIndian Xxx nurse doctor Hindi audio\\n3:00\\nMuslim girl fuck with her boyfriend in to the forest period delhi indian sex video\\n9:00\\nVillage girls Videos telugu www period xxxtapes period gq\\n10:00\\nHot Arab hijabi muslim gets fucked by man Xxx Video hot\\n5:00\\nPriyanka chopra sexy scene very hot Xxx\\n3:00\\nBest indian cry sexy video watching and injoy\\n6:00\\nDil kya kare Xxx longer version 2\\n10:00\\nSonam kapoor marraige and honeymoon Video leak with kareena kapoor and alia bhatt\\n4:00\\nIndian Xxx hindi\\n2:00\\nBrother and sister vert chinese best girl video vert desi girl vert\\n9:00\\nDesi indian teen girls hindi dirty talk home made hd porn Video\\n3:00\\nBest vive snapchat whatsapp porn xxx part 1 watch part 2 xtubeup com\\n3:00\\nIndian office viral desi hottest sex video ever\\n4:00\\nXxx porn Video rawhide scene 3 lpar susy gala comma nick moreno rpar\\n8:00\\nXxx\\n11:00\\nWww indian4u ml indian college girl first time fuck full video\\n6:00\\nAnty fucking hard with boy friend for more Videos login to proneen period com\\n8:00\\nIndian hot Bhabi Xxx videos\\n2:00\\nLalita singh desi indian village autdoor jungle boyfriend sex video\\n11:00\\nFat indian girl deepali fucked hard Sex by her boyfriend New indian Sex Video\\n2:00\\nXxx Bhabhi sex with devar\\n10:00\\nDesi girl in tights indian hd porn video b7 xhamster\\n9:00\\nMy suhagraat self made video\\n6:00\\nVid 20100210 pv0001 vandavasi polytechnic college it tamil 20 yrs old unmarried students vinoth reva\\n3:00\\nSexy hot saree navel and sexy sound moaning for masturbating Video check my profile for sexy saree n\\n3:00\\nIndian teacher and student new video\\n2:00\\nIndian dad force fuck to his daughter in bathroom hidden Video\\n2:00\\nImo india viral video imo video call from my phone hd 33\\n1:10\\nAsian school girl hostel Sex colon viral leaked Video\\n13:00\\nVideo 001\\n5:00\\nDesi girl with russian boy doggystyle full video\\n3:00\\nDelhi college girl sex video with bf\\n16:00\\nDesi style dress change Xxx\\n1:26\\nRajasthani village girl Hindi Xxx fucked hard\\n8:00\\nDragon ball z Xxx videl amp gohan hentai cartoon network\\n5:00\\nIndian hard sex video tight pusy\\n8:00\\nJapanese indian sex video\\n3:00\\nAnimal attraction carnal desires\\n1:15:00\\nHd indian sex video hd indian teen sex Videos\\n9:00\\nIpe video ipe video 492744\\n6:00\\nIndian tolet Mms video indian Bhabhi pissing\\n10:00\\nAunty get fucked by his bf in hotel movie from jizzbunker com video site\\n7:00\\nTamil Aunty bathing video showing\\n5:00\\nReal indian mom and son caught camera full video here https www sonasexy cf\\n2:00\\nIndian boy masturbating with cum 3 47 min embed Videos twink meeting room\\n4:00\\nCombat medic mercy Anal overwatch blender animation hentai cartoon network\\n2:00\\nRussian hd porn Videos new porn of russia 2018 download megasexhd net\\n27:00\\nXxx porn Video lay her down scene 5 period mp4\\n8:00\\nIndian guy creampie hot russian girl full video hot\\n10:00\\nSomething hot free indian porn video\\n3:00\\nHot Anime indian bride fucks muslim guy\\n15:00\\nIndian aunty mona hardcore sex video amateur bhabhi sex\\n10:00\\nBengali hot bhabi in romance short film hot bangla Video hot bhabi\\n8:00\\nIndian sex lounge desi teen peesing naked xxx Video www period desihoney period com\\n23:00\\nAmateur indian porn star horny lily stripping teasing in bedroom Xxx\\n10:00\\nDesi girl live Sex vert more hot Video at https colon sol sol goo period gl sol skdvbp\\n1:19\\nBheege hont tere Xxx teaser 1\\n10:00\\nHindi sex indian live local sex clear hindi audio hindi indian Video clear hindi audio desi bhabhi l\\n14:00\\nDesi Xxx prone bone\\n5:00\\nIndian girl webcam sucking free girl sucking porn Video\\n1:06\\n3d Mmd discipline demonstration full Video 3d cartoon sex game\\n3:00\\n9181168 90290 hot bhavi for sex chat and video call\\n5:00\\nXxxbd25 period sextgem period com telugu Sex Videos 5 indian Desi\\n11:00\\nDesi Bhabhi hot cam hidden bathing Video part 3\\n3:00\\nForced sex in porn free forced Videos http bokeporn mobi\\n3:00\\nIndian model shanaya filmed taking shower full naked Video\\n13:00\\nTwo indian lesbian sluts making some sweet hot love movie from jizzbunker period com Video site peri\\n9:00\\nDesi hot romance and Sex more hot Video at https goo gl skdvbp\\n11:00\\nDesi Xxx Bhabi fuck\\n27:00\\nIndian collage girl mms scandals Video leaked mm1movie com\\n23:00\\nIndian aunty hot Videos more aunty videos4 auntysexvideos period net\\n5:00\\nTelugu Aunty sex video\\n9:00\\nSearch sunny leone Sex at xjona period com free Videos search engine website\\n3:00\\nIndian babhi sex video indianbd xtgem com\\n9:00\\nClassic Honeymoon sex video vintage style\\n4:00\\nBest indian sex video collection\\n6:00\\nBhabhi indian hardcore Xxx Fucking in swimming po\\n2:00\\nIndian tamil girls naked on street Video clip wowmoyback\\n1:16\\nIndian amateur girl first time hardcore Anal sex indian porn Videos mp4\\n2:00\\nIndian sex free Anal amateur porn Video mobile\\n2:00\\nXxx porn video engine trouble\\n8:00\\nDesi Bhabhi show off free Xxx videos1\\n3:00\\nAnty show hikeing saree and show ass please subscribe and watch aunty s more Videos 360 x 270\\n1:04\\nHorny japanese wife fuck by blind neighbour for full video here https bit ly 2gfzdq1\\n28:00\\nCasual sex with A hot czech girl Video starring Angel wicky mofos com\\n8:00\\nBhabhi girl in delhi ncr mail rockyhandsomedick commat gmail period com for my pics comma video chat\\n6:00\\n18 asian Video for boyfriend part 1 xtubeup com\\n14:00\\nWii fit trainer animation derpixon hentai 3d porn games\\n2:00\\nBest indian sex video collection\\n2:00\\nClipssexy period com zarin khan hot unseen first time more actress Videos\\n3:00\\nHot Desi teen gets fucked doggy more Videos on lpar www period milffreecams period net rpar\\n2:00\\nDesi partners naked at flooring performing warm love Sex porn tube Sex Videos indian amateur\\n5:00\\nKamasutra 3d photo shoot nude Video with sherlyn chopra\\n1:05\\nDesi school girl sex video\\n10:00\\nDesi indian teen girl Xxx movies leaked mms 2017\\n5:00\\nVideo 20170704 230850\\n1:39\\nCandian indian sunny fucking 1 bollywood porn Videos\\n8:00\\nKitchen sex videos of big boobs virgin teen\\n1:30\\nIndian Desi kannada Aunty milky soft boobs extreme fondled by hubby Sex Videos watch indian sexy\\n4:00\\nDirty mouth wants to be filled with cock Video starring nikki brooks mofos com\\n8:00\\nBhabhi girl in delhi ncr mail rockyhandsomedick commat gmail period com for my pics comma video chat\\n2:00\\nPart 2 desi indian bhabhi pissing outdoor village outdoor Videos\\n10:00\\nBeautiful girls new hot sex video 2020\\n2:00\\nIndian girls kitty Priya big Dildo Fucking Video\\n13:00\\nJapanese squirting mom and son full Video here https bit ly 2gb9mur\\n11:00\\nWinged victory mercy riding overwatch blender animation wsound hentai 3d porn games\\n2:00\\nBest indian sex video collection\\n1:27\\nDesi girl show her phudi free arab porn video camgirl sex\\n2:00\\nAndroid sex videos 37\\n4:00\\nDesi teacher and student new video\\n2:00\\nIndian kerala mallu honeymoon couple after having fuck with audio Video 3 wowmoyback\\n2:00\\nDesi hottie sumi with her house owners son Video\\n9:00\\nNew hot sexy Video bathroom youtube via befucker com\\n6:00\\nVillage sumithra bhabhi self masturbation Video\\n2:00\\nAryan khan mms with navya naveli nanda Real Video car Fuck cencored\\n2:00\\nLoad more?\\nsquort hairy\\nblack erotic sex\\nsleeping naked male\\nbecky leigh porn\\nnude woman on cam\\nmarathi audio video\\nxxxgirl fights\\nsadhu sanyasi\\nvery hot desi\\ne e e s a s and e o\\nxxx mallu sex video\\nsex nude sa\\ntransexuals xxxporn\\nteen vagina hairy\\nvery young cum shot\\ntight teen squirts\\nasia carreragif\\nnude game teen\\nthe bbc\\nnaked spanish twink\\nxxx indian stories\\nsexy string panties\\nvidya baln sexyfake\\nsex porno erotika\\nnude pixie gif\\n2019 - www.sunindianporn.com'"
      ]
     },
     "execution_count": 19,
     "metadata": {},
     "output_type": "execute_result"
    }
   ],
   "source": [
    "testdoc"
   ]
  },
  {
   "cell_type": "code",
   "execution_count": null,
   "metadata": {},
   "outputs": [],
   "source": [
    "#Simple word search\n",
    "start = time.time()\n",
    "pornsites={}\n",
    "for doc in docs:\n",
    "    clean = [w.strip(string.digits + string.punctuation).lower() for w in word_tokenize(doc.content) if w not in stop_words]\n",
    "    pwds=[w for w in word_tokenize(doc.content) if w in profanelist]\n",
    "    pornsites[doc.url]=[len(pwds), ', '.join(pwds)]\n",
    "duration=str(datetime.timedelta(seconds=time.time() - start))\n",
    "print(\"Number of pages counted: \", len(pornsites))\n",
    "print(\"Duration: \", duration)"
   ]
  },
  {
   "cell_type": "code",
   "execution_count": null,
   "metadata": {
    "scrolled": false
   },
   "outputs": [],
   "source": [
    "{k: v for k, v in sorted(pornsites.items(), key=lambda item: item[1], reverse=True)}"
   ]
  },
  {
   "cell_type": "code",
   "execution_count": 319,
   "metadata": {},
   "outputs": [
    {
     "data": {
      "text/plain": [
       "167"
      ]
     },
     "execution_count": 319,
     "metadata": {},
     "output_type": "execute_result"
    }
   ],
   "source": [
    "len({k: v for k, v in pornsites.items() if v > 3})"
   ]
  },
  {
   "cell_type": "code",
   "execution_count": 316,
   "metadata": {},
   "outputs": [
    {
     "data": {
      "text/plain": [
       "0.01294272649771371"
      ]
     },
     "execution_count": 316,
     "metadata": {},
     "output_type": "execute_result"
    }
   ],
   "source": [
    "167.00/12903.00"
   ]
  }
 ],
 "metadata": {
  "kernelspec": {
   "display_name": "Python 3",
   "language": "python",
   "name": "python3"
  },
  "language_info": {
   "codemirror_mode": {
    "name": "ipython",
    "version": 3
   },
   "file_extension": ".py",
   "mimetype": "text/x-python",
   "name": "python",
   "nbconvert_exporter": "python",
   "pygments_lexer": "ipython3",
   "version": "3.8.5"
  }
 },
 "nbformat": 4,
 "nbformat_minor": 2
}
